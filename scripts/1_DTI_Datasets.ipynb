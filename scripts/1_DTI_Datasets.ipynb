{
 "cells": [
  {
   "cell_type": "code",
   "execution_count": null,
   "metadata": {},
   "outputs": [],
   "source": [
    "import pandas as pd\n",
    "#import sys\n",
    "#import os\n",
    "import numpy as np\n",
    "from tdc.multi_pred import DTI\n"
   ]
  },
  {
   "cell_type": "markdown",
   "metadata": {},
   "source": [
    "# Dataset Papyrus"
   ]
  },
  {
   "cell_type": "markdown",
   "metadata": {},
   "source": [
    "Installs or reinstalls papyrus-scripts and rdkit-pypi from GitHub if the import fails, then restarts the Jupyter kernel."
   ]
  },
  {
   "cell_type": "code",
   "execution_count": null,
   "metadata": {},
   "outputs": [],
   "source": [
    "#try:\n",
    "    #import papyrus_scripts\n",
    "#except:\n",
    "    #!pip uninstall papyrus-scripts -y\n",
    "    #!pip install rdkit-pypi\n",
    "    #!pip install https://github.com/OlivierBeq/Papyrus-scripts/tarball/master --no-cache-dir\n",
    "    #get_ipython().kernel.do_shutdown(True)"
   ]
  },
  {
   "cell_type": "markdown",
   "metadata": {},
   "source": [
    "### Extract drugs and proteins"
   ]
  },
  {
   "cell_type": "markdown",
   "metadata": {},
   "source": [
    "Loads drug and protein data using the read_papyrus and read_protein_set functions."
   ]
  },
  {
   "cell_type": "code",
   "execution_count": null,
   "metadata": {},
   "outputs": [],
   "source": [
    "from papyrus_scripts.reader import read_papyrus, read_protein_set\n",
    "\n",
    "sample_data = read_papyrus(is3d=False, chunksize=None, source_path=None)"
   ]
  },
  {
   "cell_type": "code",
   "execution_count": null,
   "metadata": {},
   "outputs": [],
   "source": [
    "protein_data = read_protein_set(source_path=None)\n",
    "protein_data.head()"
   ]
  },
  {
   "cell_type": "markdown",
   "metadata": {},
   "source": [
    "### Merge drugs and proteins"
   ]
  },
  {
   "cell_type": "markdown",
   "metadata": {},
   "source": [
    "Converts IDs to strings, expands protein IDs into separate rows, merges drug and protein datasets by ID, removes rows without sequences, and prepares the data for export."
   ]
  },
  {
   "cell_type": "code",
   "execution_count": null,
   "metadata": {},
   "outputs": [],
   "source": [
    "sample_data['TID'] = sample_data['TID'].astype(str) # TID is ID\n",
    "protein_data['TID'] = protein_data['TID'].astype(str)\n",
    "\n",
    "protein_data_exploded = protein_data.assign(TID=protein_data['TID'].str.split(';')).explode('TID')\n",
    "\n",
    "sample_data = sample_data.merge(protein_data_exploded[['TID', 'Sequence']], on='TID', how='left')\n",
    "\n",
    "print(sample_data.head())"
   ]
  },
  {
   "cell_type": "code",
   "execution_count": 44,
   "metadata": {},
   "outputs": [],
   "source": [
    "sample_data = sample_data.dropna(subset=['Sequence'])"
   ]
  },
  {
   "cell_type": "code",
   "execution_count": null,
   "metadata": {},
   "outputs": [],
   "source": [
    "#sample_data.to_csv(\"Papyrus_merge.csv\", index=False, encoding=\"utf-8\")"
   ]
  },
  {
   "cell_type": "markdown",
   "metadata": {},
   "source": [
    "# Dataset Davis"
   ]
  },
  {
   "cell_type": "code",
   "execution_count": null,
   "metadata": {},
   "outputs": [],
   "source": [
    "data_DAVIS= DTI(name = 'DAVIS')\n",
    "DAVIS = data_DAVIS.get_data()"
   ]
  },
  {
   "cell_type": "code",
   "execution_count": null,
   "metadata": {},
   "outputs": [],
   "source": [
    "unique_smiles_count = DAVIS[\"Drug\"].nunique()\n",
    "print(f\"Unique SMILES: {unique_smiles_count}\")\n",
    "unique_target_count = DAVIS[\"Target\"].nunique()\n",
    "print(f\"Unique Targets: {unique_target_count}\")"
   ]
  },
  {
   "cell_type": "markdown",
   "metadata": {},
   "source": [
    "# Dataset KIBA"
   ]
  },
  {
   "cell_type": "code",
   "execution_count": null,
   "metadata": {},
   "outputs": [],
   "source": [
    "data_KIBA = DTI(name = 'KIBA')\n",
    "KIBA = data_KIBA.get_data()"
   ]
  },
  {
   "cell_type": "code",
   "execution_count": null,
   "metadata": {},
   "outputs": [],
   "source": [
    "unique_smiles_count = KIBA[\"Drug\"].nunique()\n",
    "print(f\"Unique SMILES: {unique_smiles_count}\")\n",
    "unique_target_count = KIBA[\"Target\"].nunique()\n",
    "print(f\"Unique Targets: {unique_target_count}\")"
   ]
  },
  {
   "cell_type": "markdown",
   "metadata": {},
   "source": [
    "#  Dataset BindingDB"
   ]
  },
  {
   "cell_type": "code",
   "execution_count": null,
   "metadata": {},
   "outputs": [],
   "source": [
    "dataBD_KD = DTI(name = 'BindingDB_Kd')\n",
    "BD_KD = dataBD_KD.get_data()"
   ]
  },
  {
   "cell_type": "code",
   "execution_count": null,
   "metadata": {},
   "outputs": [],
   "source": [
    "unique_smiles_count = BD_KD[\"Drug_ID\"].nunique()\n",
    "print(f\"Unique SMILES: {unique_smiles_count}\")\n",
    "unique_target_count = BD_KD[\"Target\"].nunique()\n",
    "print(f\"Unique Targets: {unique_target_count}\")"
   ]
  },
  {
   "cell_type": "code",
   "execution_count": null,
   "metadata": {},
   "outputs": [],
   "source": [
    "dataBD_IC50 = DTI(name = 'BindingDB_IC50')\n",
    "BD_IC50 = dataBD_IC50.get_data()\n"
   ]
  },
  {
   "cell_type": "code",
   "execution_count": null,
   "metadata": {},
   "outputs": [],
   "source": [
    "unique_smiles_count = BD_IC50[\"Drug_ID\"].nunique()\n",
    "print(f\"Unique SMILES: {unique_smiles_count}\")\n",
    "unique_target_count = BD_IC50[\"Target\"].nunique()\n",
    "print(f\"Unique Targets: {unique_target_count}\")"
   ]
  },
  {
   "cell_type": "code",
   "execution_count": null,
   "metadata": {},
   "outputs": [],
   "source": [
    "dataBD_KI = DTI(name = 'BindingDB_Ki')\n",
    "BD_KI = dataBD_KI.get_data()"
   ]
  },
  {
   "cell_type": "code",
   "execution_count": null,
   "metadata": {},
   "outputs": [],
   "source": [
    "unique_smiles_count = BD_KI[\"Drug_ID\"].nunique()\n",
    "print(f\"Unique SMILES: {unique_smiles_count}\")\n",
    "unique_target_count = BD_KI[\"Target\"].nunique()\n",
    "print(f\"Unique Targets: {unique_target_count}\")"
   ]
  },
  {
   "cell_type": "markdown",
   "metadata": {},
   "source": [
    "# Dataset Metz"
   ]
  },
  {
   "cell_type": "code",
   "execution_count": null,
   "metadata": {},
   "outputs": [],
   "source": [
    "file_path = \"Metz.csv\"\n",
    "METZ = pd.read_csv(file_path)\n",
    "print(METZ.shape[0])\n",
    "print(METZ.columns)"
   ]
  },
  {
   "cell_type": "code",
   "execution_count": null,
   "metadata": {},
   "outputs": [],
   "source": [
    "unique_smiles_count = METZ[\"SMILES\"].nunique()\n",
    "print(f\"Unique SMILES: {unique_smiles_count}\")\n",
    "unique_smiles_count = METZ[\"ProteinSequence\"].nunique()\n",
    "print(f\"Unique Targets: {unique_smiles_count}\")"
   ]
  },
  {
   "cell_type": "markdown",
   "metadata": {},
   "source": [
    "# Dataset Human\n"
   ]
  },
  {
   "cell_type": "code",
   "execution_count": null,
   "metadata": {},
   "outputs": [],
   "source": [
    "file_path = \"Human.csv\"\n",
    "df_Human = pd.read_csv(file_path)\n",
    "print(df_Human.shape[0])\n",
    "print(df_Human.columns)"
   ]
  },
  {
   "cell_type": "code",
   "execution_count": null,
   "metadata": {},
   "outputs": [],
   "source": [
    "unique_smiles_count = df_Human[\"compound_iso_smiles\"].nunique()\n",
    "print(f\"Unique SMILES: {unique_smiles_count}\")\n",
    "unique_target_count = df_Human[\"target_sequence\"].nunique()\n",
    "print(f\"Unique Targets: {unique_target_count}\")"
   ]
  },
  {
   "cell_type": "markdown",
   "metadata": {},
   "source": [
    "# Dataset C. elegans"
   ]
  },
  {
   "cell_type": "code",
   "execution_count": null,
   "metadata": {},
   "outputs": [],
   "source": [
    "file_path = \"C_elegans.csv\"\n",
    "df_elangs = pd.read_csv(file_path)\n",
    "print(df_elangs.shape[0])\n",
    "print(df_elangs.columns)"
   ]
  },
  {
   "cell_type": "code",
   "execution_count": null,
   "metadata": {},
   "outputs": [],
   "source": [
    "unique_smiles_count = df_elangs[\"smile\"].nunique()\n",
    "print(f\"Unique SMILES: {unique_smiles_count}\")\n",
    "unique_target_count = df_elangs[\"protein\"].nunique()\n",
    "print(f\"Unique Targets: {unique_target_count}\")"
   ]
  },
  {
   "cell_type": "markdown",
   "metadata": {},
   "source": [
    "# "
   ]
  }
 ],
 "metadata": {
  "kernelspec": {
   "display_name": "rdkit_env",
   "language": "python",
   "name": "python3"
  },
  "language_info": {
   "codemirror_mode": {
    "name": "ipython",
    "version": 3
   },
   "file_extension": ".py",
   "mimetype": "text/x-python",
   "name": "python",
   "nbconvert_exporter": "python",
   "pygments_lexer": "ipython3",
   "version": "3.8.20"
  }
 },
 "nbformat": 4,
 "nbformat_minor": 2
}
