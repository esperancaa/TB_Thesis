{
 "cells": [
  {
   "cell_type": "code",
   "execution_count": null,
   "metadata": {},
   "outputs": [],
   "source": [
    "import pandas as pd\n",
    "import sys\n",
    "import os\n",
    "import numpy as np\n",
    "sys.path.append(os.path.abspath(\"/home/resperanca/Tuberculosis_Tese/Data/DTI_Data_1_step/Papyrus/src/papyrus_scripts/reader.py\"))\n",
    "from tdc.multi_pred import DTI\n"
   ]
  },
  {
   "cell_type": "markdown",
   "metadata": {},
   "source": [
    "# Papyrus"
   ]
  },
  {
   "cell_type": "code",
   "execution_count": null,
   "metadata": {},
   "outputs": [],
   "source": [
    "#try:\n",
    "    #import papyrus_scripts\n",
    "#except:\n",
    "    #!pip uninstall papyrus-scripts -y\n",
    "    #!pip install rdkit-pypi\n",
    "    #!pip install https://github.com/OlivierBeq/Papyrus-scripts/tarball/master --no-cache-dir\n",
    "    #get_ipython().kernel.do_shutdown(True)\n",
    "from papyrus_scripts.reader import read_papyrus, read_protein_set"
   ]
  },
  {
   "cell_type": "markdown",
   "metadata": {},
   "source": [
    "### Extract drugs"
   ]
  },
  {
   "cell_type": "code",
   "execution_count": 41,
   "metadata": {},
   "outputs": [],
   "source": [
    "sample_data = read_papyrus(is3d=False, chunksize=None, source_path=None)"
   ]
  },
  {
   "cell_type": "markdown",
   "metadata": {},
   "source": [
    "### Extract Proteins\n"
   ]
  },
  {
   "cell_type": "code",
   "execution_count": 42,
   "metadata": {},
   "outputs": [
    {
     "data": {
      "text/html": [
       "<div>\n",
       "<style scoped>\n",
       "    .dataframe tbody tr th:only-of-type {\n",
       "        vertical-align: middle;\n",
       "    }\n",
       "\n",
       "    .dataframe tbody tr th {\n",
       "        vertical-align: top;\n",
       "    }\n",
       "\n",
       "    .dataframe thead th {\n",
       "        text-align: right;\n",
       "    }\n",
       "</style>\n",
       "<table border=\"1\" class=\"dataframe\">\n",
       "  <thead>\n",
       "    <tr style=\"text-align: right;\">\n",
       "      <th></th>\n",
       "      <th>target_id</th>\n",
       "      <th>UniProtID</th>\n",
       "      <th>Status</th>\n",
       "      <th>Organism</th>\n",
       "      <th>Classification</th>\n",
       "      <th>Length</th>\n",
       "      <th>Sequence</th>\n",
       "      <th>TID</th>\n",
       "    </tr>\n",
       "  </thead>\n",
       "  <tbody>\n",
       "    <tr>\n",
       "      <th>0</th>\n",
       "      <td>P47747_WT</td>\n",
       "      <td>HRH2_CAVPO</td>\n",
       "      <td>reviewed</td>\n",
       "      <td>Cavia porcellus (Guinea pig)</td>\n",
       "      <td>Membrane receptor-&gt;Family A G protein-coupled ...</td>\n",
       "      <td>359</td>\n",
       "      <td>MAFNGTVPSFCMDFTVYKVTISVILIILILVTVAGNVVVCLAVGLN...</td>\n",
       "      <td>ChEMBL:CHEMBL2882</td>\n",
       "    </tr>\n",
       "    <tr>\n",
       "      <th>1</th>\n",
       "      <td>B0FL73_WT</td>\n",
       "      <td>B0FL73_CAVPO</td>\n",
       "      <td>unreviewed</td>\n",
       "      <td>Cavia porcellus (Guinea pig)</td>\n",
       "      <td>Membrane receptor-&gt;Family A G protein-coupled ...</td>\n",
       "      <td>467</td>\n",
       "      <td>MGAGVLALGASEPCNLSSTAPLPDGAATAARLLVPASPPASLLPPT...</td>\n",
       "      <td>ChEMBL:CHEMBL5471</td>\n",
       "    </tr>\n",
       "    <tr>\n",
       "      <th>2</th>\n",
       "      <td>Q8K4Z4_WT</td>\n",
       "      <td>ADRB2_CAVPO</td>\n",
       "      <td>reviewed</td>\n",
       "      <td>Cavia porcellus (Guinea pig)</td>\n",
       "      <td>Membrane receptor-&gt;Family A G protein-coupled ...</td>\n",
       "      <td>418</td>\n",
       "      <td>MGHLGNGSDFLLAPNASHAPDHNVTRERDEAWVVGMAIVMSLIVLA...</td>\n",
       "      <td>ChEMBL:CHEMBL5414</td>\n",
       "    </tr>\n",
       "    <tr>\n",
       "      <th>3</th>\n",
       "      <td>P97266_WT</td>\n",
       "      <td>OPRM_CAVPO</td>\n",
       "      <td>reviewed</td>\n",
       "      <td>Cavia porcellus (Guinea pig)</td>\n",
       "      <td>Membrane receptor-&gt;Family A G protein-coupled ...</td>\n",
       "      <td>98</td>\n",
       "      <td>YTKMKTATNIYIFNLALADALATSTLPFQSVNYLMGTWPFGTILCK...</td>\n",
       "      <td>ChEMBL:CHEMBL4354;ChEMBL:CHEMBL2111465</td>\n",
       "    </tr>\n",
       "    <tr>\n",
       "      <th>4</th>\n",
       "      <td>P41144_WT</td>\n",
       "      <td>OPRK_CAVPO</td>\n",
       "      <td>reviewed</td>\n",
       "      <td>Cavia porcellus (Guinea pig)</td>\n",
       "      <td>Membrane receptor-&gt;Family A G protein-coupled ...</td>\n",
       "      <td>380</td>\n",
       "      <td>MGRRRQGPAQPASELPARNACLLPNGSAWLPGWAEPDGNGSAGPQD...</td>\n",
       "      <td>ChEMBL:CHEMBL3952;ChEMBL:CHEMBL2111465</td>\n",
       "    </tr>\n",
       "  </tbody>\n",
       "</table>\n",
       "</div>"
      ],
      "text/plain": [
       "   target_id     UniProtID      Status                      Organism  \\\n",
       "0  P47747_WT    HRH2_CAVPO    reviewed  Cavia porcellus (Guinea pig)   \n",
       "1  B0FL73_WT  B0FL73_CAVPO  unreviewed  Cavia porcellus (Guinea pig)   \n",
       "2  Q8K4Z4_WT   ADRB2_CAVPO    reviewed  Cavia porcellus (Guinea pig)   \n",
       "3  P97266_WT    OPRM_CAVPO    reviewed  Cavia porcellus (Guinea pig)   \n",
       "4  P41144_WT    OPRK_CAVPO    reviewed  Cavia porcellus (Guinea pig)   \n",
       "\n",
       "                                      Classification  Length  \\\n",
       "0  Membrane receptor->Family A G protein-coupled ...     359   \n",
       "1  Membrane receptor->Family A G protein-coupled ...     467   \n",
       "2  Membrane receptor->Family A G protein-coupled ...     418   \n",
       "3  Membrane receptor->Family A G protein-coupled ...      98   \n",
       "4  Membrane receptor->Family A G protein-coupled ...     380   \n",
       "\n",
       "                                            Sequence  \\\n",
       "0  MAFNGTVPSFCMDFTVYKVTISVILIILILVTVAGNVVVCLAVGLN...   \n",
       "1  MGAGVLALGASEPCNLSSTAPLPDGAATAARLLVPASPPASLLPPT...   \n",
       "2  MGHLGNGSDFLLAPNASHAPDHNVTRERDEAWVVGMAIVMSLIVLA...   \n",
       "3  YTKMKTATNIYIFNLALADALATSTLPFQSVNYLMGTWPFGTILCK...   \n",
       "4  MGRRRQGPAQPASELPARNACLLPNGSAWLPGWAEPDGNGSAGPQD...   \n",
       "\n",
       "                                      TID  \n",
       "0                       ChEMBL:CHEMBL2882  \n",
       "1                       ChEMBL:CHEMBL5471  \n",
       "2                       ChEMBL:CHEMBL5414  \n",
       "3  ChEMBL:CHEMBL4354;ChEMBL:CHEMBL2111465  \n",
       "4  ChEMBL:CHEMBL3952;ChEMBL:CHEMBL2111465  "
      ]
     },
     "execution_count": 42,
     "metadata": {},
     "output_type": "execute_result"
    }
   ],
   "source": [
    "protein_data = read_protein_set(source_path=None)\n",
    "protein_data.head()"
   ]
  },
  {
   "cell_type": "code",
   "execution_count": null,
   "metadata": {},
   "outputs": [],
   "source": [
    "sample_data.columns"
   ]
  },
  {
   "cell_type": "markdown",
   "metadata": {},
   "source": [
    "### Merge drugs and proteins"
   ]
  },
  {
   "cell_type": "code",
   "execution_count": null,
   "metadata": {},
   "outputs": [],
   "source": [
    "sample_data['TID'] = sample_data['TID'].astype(str) # TID is ID\n",
    "protein_data['TID'] = protein_data['TID'].astype(str)\n",
    "\n",
    "protein_data_exploded = protein_data.assign(TID=protein_data['TID'].str.split(';')).explode('TID')\n",
    "\n",
    "sample_data = sample_data.merge(protein_data_exploded[['TID', 'Sequence']], on='TID', how='left')\n",
    "\n",
    "print(sample_data.head())"
   ]
  },
  {
   "cell_type": "code",
   "execution_count": 44,
   "metadata": {},
   "outputs": [],
   "source": [
    "sample_data = sample_data.dropna(subset=['Sequence'])"
   ]
  },
  {
   "cell_type": "code",
   "execution_count": 46,
   "metadata": {},
   "outputs": [],
   "source": [
    "sample_data.to_csv(\"Papyrus_final.csv\", index=False, encoding=\"utf-8\")"
   ]
  },
  {
   "cell_type": "markdown",
   "metadata": {},
   "source": [
    "### Barlow dataset "
   ]
  },
  {
   "cell_type": "code",
   "execution_count": 12,
   "metadata": {},
   "outputs": [
    {
     "name": "stdout",
     "output_type": "stream",
     "text": [
      "Index(['smiles', 'sequence', 'label', 'split'], dtype='object')\n"
     ]
    }
   ],
   "source": [
    "import pandas as pd\n",
    "dataset_path = \"/home/resperanca/Tuberculosis_Tese/Data/DTI_Data_2_step/Papyrus_final.csv\"\n",
    "train_df = pd.read_csv(dataset_path)\n",
    "print(train_df.columns)"
   ]
  },
  {
   "cell_type": "markdown",
   "metadata": {},
   "source": [
    "### Rename Columns"
   ]
  },
  {
   "cell_type": "code",
   "execution_count": 13,
   "metadata": {},
   "outputs": [],
   "source": [
    "train_df.rename(columns={\"SMILES\": \"smiles\", \"Sequence\": \"sequence\", 'pchembl_value_Mean': 'label'}, inplace=True)\n",
    "train_df.to_csv(dataset_path, index=False)\n"
   ]
  },
  {
   "cell_type": "markdown",
   "metadata": {},
   "source": [
    "### Remove NaN"
   ]
  },
  {
   "cell_type": "code",
   "execution_count": 14,
   "metadata": {},
   "outputs": [
    {
     "name": "stdout",
     "output_type": "stream",
     "text": [
      "smiles      0\n",
      "sequence    0\n",
      "label       0\n",
      "split       0\n",
      "dtype: int64\n"
     ]
    }
   ],
   "source": [
    "train_df = train_df.dropna(subset=['sequence'])\n",
    "print(train_df.isnull().sum()) "
   ]
  },
  {
   "cell_type": "code",
   "execution_count": 15,
   "metadata": {},
   "outputs": [],
   "source": [
    "colunas_para_manter = [\"smiles\", \"sequence\", 'label']\n",
    "train_df = train_df[colunas_para_manter]\n"
   ]
  },
  {
   "cell_type": "markdown",
   "metadata": {},
   "source": [
    "### Creat Split Column"
   ]
  },
  {
   "cell_type": "code",
   "execution_count": 16,
   "metadata": {},
   "outputs": [
    {
     "name": "stdout",
     "output_type": "stream",
     "text": [
      "split\n",
      "train    365868\n",
      "test      78357\n",
      "val       78215\n",
      "Name: count, dtype: int64\n"
     ]
    }
   ],
   "source": [
    "import numpy as np\n",
    "np.random.seed(42)\n",
    "train_df[\"split\"] = np.random.choice([\"train\", \"val\", \"test\"], size=len(train_df), p=[0.7, 0.15, 0.15])\n",
    "train_df.to_csv(dataset_path, index=False)\n",
    "print(train_df[\"split\"].value_counts()) "
   ]
  },
  {
   "cell_type": "code",
   "execution_count": 17,
   "metadata": {},
   "outputs": [
    {
     "name": "stdout",
     "output_type": "stream",
     "text": [
      "Min: 9\n",
      "Mean: 620.3358821863495\n",
      "Max: 7096\n",
      "95th percentile: 1390.0\n"
     ]
    },
    {
     "data": {
      "image/png": "[encoded data removed]",
      "text/plain": [
       "<Figure size 1000x600 with 1 Axes>"
      ]
     },
     "metadata": {},
     "output_type": "display_data"
    }
   ],
   "source": [
    "import matplotlib.pyplot as plt\n",
    "import seaborn as sns\n",
    "import numpy as np\n",
    "\n",
    "# comprimentos ANTES da truncagem\n",
    "unique_seqs = train_df['sequence'].unique()\n",
    "seq_lengths = [len(seq) for seq in unique_seqs]\n",
    "\n",
    "# estatísticas\n",
    "print(\"Min:\", np.min(seq_lengths))\n",
    "print(\"Mean:\", np.mean(seq_lengths))\n",
    "print(\"Max:\", np.max(seq_lengths))\n",
    "print(\"95th percentile:\", np.percentile(seq_lengths, 95))\n",
    "\n",
    "# histograma\n",
    "plt.figure(figsize=(10,6))\n",
    "sns.histplot(seq_lengths, bins=50, kde=True, color=\"steelblue\")\n",
    "plt.axvline(np.percentile(seq_lengths, 95), color=\"red\", linestyle=\"--\", linewidth=2, \n",
    "            label=f\"95th percentile = {int(np.percentile(seq_lengths, 95))}\")\n",
    "\n",
    "plt.title(\"Distribution of protein sequence lengths (before truncation)\", fontsize=14)\n",
    "plt.xlabel(\"Sequence length (aa)\", fontsize=12)\n",
    "plt.ylabel(\"Frequency\", fontsize=12)\n",
    "plt.legend()\n",
    "plt.show()\n"
   ]
  },
  {
   "cell_type": "code",
   "execution_count": 18,
   "metadata": {},
   "outputs": [
    {
     "name": "stdout",
     "output_type": "stream",
     "text": [
      "Min: 12\n",
      "Mean: 51.91600555023102\n",
      "Max: 129\n",
      "95th percentile: 76.0\n"
     ]
    },
    {
     "data": {
      "image/png": "[encoded data removed]",
      "text/plain": [
       "<Figure size 1000x600 with 1 Axes>"
      ]
     },
     "metadata": {},
     "output_type": "display_data"
    }
   ],
   "source": [
    "import matplotlib.pyplot as plt\n",
    "import seaborn as sns\n",
    "import numpy as np\n",
    "\n",
    "# calcular comprimentos dos SMILES\n",
    "unique_smiles = train_df['smiles'].unique()\n",
    "smiles_lengths = [len(s) for s in unique_smiles]\n",
    "\n",
    "# estatísticas\n",
    "print(\"Min:\", np.min(smiles_lengths))\n",
    "print(\"Mean:\", np.mean(smiles_lengths))\n",
    "print(\"Max:\", np.max(smiles_lengths))\n",
    "print(\"95th percentile:\", np.percentile(smiles_lengths, 95))\n",
    "\n",
    "# percentil 95\n",
    "threshold = np.percentile(smiles_lengths, 95)\n",
    "\n",
    "# histograma\n",
    "plt.figure(figsize=(10,6))\n",
    "sns.histplot(smiles_lengths, bins=50, kde=True, color=\"darkgreen\")\n",
    "plt.axvline(threshold, color=\"red\", linestyle=\"--\", linewidth=2, \n",
    "            label=f\"95th percentile = {int(threshold)}\")\n",
    "\n",
    "plt.title(\"Distribution of SMILES string lengths (before padding)\", fontsize=14)\n",
    "plt.xlabel(\"SMILES length (characters)\", fontsize=12)\n",
    "plt.ylabel(\"Frequency\", fontsize=12)\n",
    "plt.legend()\n",
    "\n",
    "plt.tight_layout()\n",
    "plt.show()\n"
   ]
  },
  {
   "cell_type": "markdown",
   "metadata": {},
   "source": [
    "### Truncar"
   ]
  },
  {
   "cell_type": "code",
   "execution_count": 10,
   "metadata": {},
   "outputs": [],
   "source": [
    "max_len = 1385\n",
    "\n",
    "train_df['sequence'] = train_df['sequence'].apply(\n",
    "    lambda seq: seq[:max_len] if len(seq) > max_len else seq\n",
    ")\n"
   ]
  },
  {
   "cell_type": "code",
   "execution_count": 19,
   "metadata": {},
   "outputs": [],
   "source": [
    "test_dataset_path = \"/home/resperanca/Tuberculosis_Tese/Data/Tuberculosis_Data/tb_fina_BARLOW.csv\"\n",
    "train_df.to_csv(test_dataset_path, index=False)\n"
   ]
  },
  {
   "cell_type": "markdown",
   "metadata": {},
   "source": [
    "### Treshold"
   ]
  },
  {
   "cell_type": "code",
   "execution_count": null,
   "metadata": {},
   "outputs": [],
   "source": [
    "threshold = 6.5\n",
    "train_df[\"label\"] = (train_df[\"label\"] > threshold).astype(int)\n",
    "train_df.to_csv(\"/home/resperanca/Tuberculosis_Tese/Papyrus_Barlow.csv\", index=False)"
   ]
  },
  {
   "cell_type": "code",
   "execution_count": null,
   "metadata": {},
   "outputs": [
    {
     "name": "stdout",
     "output_type": "stream",
     "text": [
      "label\n",
      "1    276003\n",
      "0    246437\n",
      "Name: count, dtype: int64\n"
     ]
    }
   ],
   "source": [
    "cont = train_df[\"label\"].value_counts()\n",
    "print(cont)"
   ]
  },
  {
   "cell_type": "markdown",
   "metadata": {},
   "source": [
    "## Stratifying datasets: SPLIT"
   ]
  },
  {
   "cell_type": "code",
   "execution_count": null,
   "metadata": {},
   "outputs": [],
   "source": [
    "from sklearn.model_selection import train_test_split\n",
    "import pandas as pd\n",
    "\n",
    "#Dataset Barlow\n",
    " \n",
    "df = pd.read_csv(\"/home/resperanca/Tuberculosis_Tese/Datasets/DTI_Data_2_step/Papyrus_Barlow.csv\")\n",
    "\n",
    "df = df.drop(columns=[\"split\"]) \n",
    "\n",
    "# create train+temp (val+test)\n",
    "train_df, temp_df = train_test_split(\n",
    "    df,\n",
    "    test_size=0.3,\n",
    "    stratify=df['label'],  \n",
    "    random_state=42\n",
    ")\n",
    "\n",
    "#val and test\n",
    "val_df, test_df = train_test_split(\n",
    "    temp_df,\n",
    "    test_size=0.5,\n",
    "    stratify=temp_df['label'],\n",
    "    random_state=42\n",
    ")\n",
    "\n",
    "train_df['split'] = 'train'\n",
    "val_df['split'] = 'val'\n",
    "test_df['split'] = 'test'\n",
    "\n",
    "#concat\n",
    "df_stratified = pd.concat([train_df, val_df, test_df]).reset_index(drop=True)\n",
    "df_stratified.to_csv(\"/home/resperanca/Tuberculosis_Tese/Datasets/DTI_Data_2_step/Papyrus_Barlow.csv\", index=False)\n"
   ]
  },
  {
   "cell_type": "code",
   "execution_count": null,
   "metadata": {},
   "outputs": [],
   "source": [
    "from sklearn.model_selection import train_test_split\n",
    "import pandas as pd\n",
    "\n",
    "#Dataset TB for Barlow\n",
    "df = pd.read_csv(\"/home/resperanca/Tuberculosis_Tese/Datasets/Tuberculosis_Data/tb_fina_BARLOW.csv\")\n",
    "\n",
    "df = df.drop(columns=[\"split\"])  \n",
    "\n",
    "train_df, temp_df = train_test_split(\n",
    "    df,\n",
    "    test_size=0.3,\n",
    "    stratify=df['label'], \n",
    "    random_state=42\n",
    ")\n",
    "\n",
    "val_df, test_df = train_test_split(\n",
    "    temp_df,\n",
    "    test_size=0.5,\n",
    "    stratify=temp_df['label'],\n",
    "    random_state=42\n",
    ")\n",
    "\n",
    "train_df['split'] = 'train'\n",
    "val_df['split'] = 'val'\n",
    "test_df['split'] = 'test'\n",
    "\n",
    "df_stratified = pd.concat([train_df, val_df, test_df]).reset_index(drop=True)\n",
    "\n",
    "df_stratified.to_csv(\"/home/resperanca/Tuberculosis_Tese/Datasets/Tuberculosis_Data/tb_fina_BARLOW.csv\", index=False)"
   ]
  },
  {
   "cell_type": "markdown",
   "metadata": {},
   "source": [
    "# Davis"
   ]
  },
  {
   "cell_type": "code",
   "execution_count": 6,
   "metadata": {},
   "outputs": [
    {
     "name": "stderr",
     "output_type": "stream",
     "text": [
      "Found local copy...\n",
      "Loading...\n",
      "Done!\n"
     ]
    }
   ],
   "source": [
    "data_DAVIS= DTI(name = 'DAVIS')\n",
    "DAVIS = data_DAVIS.get_data()"
   ]
  },
  {
   "cell_type": "code",
   "execution_count": 7,
   "metadata": {},
   "outputs": [],
   "source": [
    "DAVIS.to_csv(\"DAVIS.csv\", index=False, encoding=\"utf-8\")"
   ]
  },
  {
   "cell_type": "code",
   "execution_count": 12,
   "metadata": {},
   "outputs": [
    {
     "data": {
      "text/html": [
       "<div>\n",
       "<style scoped>\n",
       "    .dataframe tbody tr th:only-of-type {\n",
       "        vertical-align: middle;\n",
       "    }\n",
       "\n",
       "    .dataframe tbody tr th {\n",
       "        vertical-align: top;\n",
       "    }\n",
       "\n",
       "    .dataframe thead th {\n",
       "        text-align: right;\n",
       "    }\n",
       "</style>\n",
       "<table border=\"1\" class=\"dataframe\">\n",
       "  <thead>\n",
       "    <tr style=\"text-align: right;\">\n",
       "      <th></th>\n",
       "      <th>Drug_ID</th>\n",
       "      <th>Drug</th>\n",
       "      <th>Target_ID</th>\n",
       "      <th>Target</th>\n",
       "      <th>Y</th>\n",
       "    </tr>\n",
       "  </thead>\n",
       "  <tbody>\n",
       "    <tr>\n",
       "      <th>0</th>\n",
       "      <td>11314340</td>\n",
       "      <td>Cc1[nH]nc2ccc(-c3cncc(OCC(N)Cc4ccccc4)c3)cc12</td>\n",
       "      <td>AAK1</td>\n",
       "      <td>MKKFFDSRREQGGSGLGSGSSGGGGSTSGLGSGYIGRVFGIGRQQV...</td>\n",
       "      <td>43.0</td>\n",
       "    </tr>\n",
       "    <tr>\n",
       "      <th>1</th>\n",
       "      <td>11314340</td>\n",
       "      <td>Cc1[nH]nc2ccc(-c3cncc(OCC(N)Cc4ccccc4)c3)cc12</td>\n",
       "      <td>ABL1p</td>\n",
       "      <td>PFWKILNPLLERGTYYYFMGQQPGKVLGDQRRPSLPALHFIKGAGK...</td>\n",
       "      <td>10000.0</td>\n",
       "    </tr>\n",
       "    <tr>\n",
       "      <th>2</th>\n",
       "      <td>11314340</td>\n",
       "      <td>Cc1[nH]nc2ccc(-c3cncc(OCC(N)Cc4ccccc4)c3)cc12</td>\n",
       "      <td>ABL2</td>\n",
       "      <td>MVLGTVLLPPNSYGRDQDTSLCCLCTEASESALPDLTDHFASCVED...</td>\n",
       "      <td>10000.0</td>\n",
       "    </tr>\n",
       "    <tr>\n",
       "      <th>3</th>\n",
       "      <td>11314340</td>\n",
       "      <td>Cc1[nH]nc2ccc(-c3cncc(OCC(N)Cc4ccccc4)c3)cc12</td>\n",
       "      <td>ACVR1</td>\n",
       "      <td>MVDGVMILPVLIMIALPSPSMEDEKPKVNPKLYMCVCEGLSCGNED...</td>\n",
       "      <td>10000.0</td>\n",
       "    </tr>\n",
       "    <tr>\n",
       "      <th>4</th>\n",
       "      <td>11314340</td>\n",
       "      <td>Cc1[nH]nc2ccc(-c3cncc(OCC(N)Cc4ccccc4)c3)cc12</td>\n",
       "      <td>ACVR1B</td>\n",
       "      <td>MAESAGASSFFPLVVLLLAGSGGSGPRGVQALLCACTSCLQANYTC...</td>\n",
       "      <td>10000.0</td>\n",
       "    </tr>\n",
       "    <tr>\n",
       "      <th>...</th>\n",
       "      <td>...</td>\n",
       "      <td>...</td>\n",
       "      <td>...</td>\n",
       "      <td>...</td>\n",
       "      <td>...</td>\n",
       "    </tr>\n",
       "    <tr>\n",
       "      <th>25767</th>\n",
       "      <td>151194</td>\n",
       "      <td>Clc1ccc(Nc2nnc(Cc3ccncc3)c3ccccc23)cc1</td>\n",
       "      <td>YES</td>\n",
       "      <td>MGCIKSKENKSPAIKYRPENTPEPVSTSVSHYGAEPTTVSPCPSSS...</td>\n",
       "      <td>10000.0</td>\n",
       "    </tr>\n",
       "    <tr>\n",
       "      <th>25768</th>\n",
       "      <td>151194</td>\n",
       "      <td>Clc1ccc(Nc2nnc(Cc3ccncc3)c3ccccc23)cc1</td>\n",
       "      <td>YSK1</td>\n",
       "      <td>MAHLRGFANQHSRVDPEELFTKLDRIGKGSFGEVYKGIDNHTKEVV...</td>\n",
       "      <td>10000.0</td>\n",
       "    </tr>\n",
       "    <tr>\n",
       "      <th>25769</th>\n",
       "      <td>151194</td>\n",
       "      <td>Clc1ccc(Nc2nnc(Cc3ccncc3)c3ccccc23)cc1</td>\n",
       "      <td>YSK4</td>\n",
       "      <td>MSSMPKPERHAESLLDICHDTNSSPTDLMTVTKNQNIILQSISRSE...</td>\n",
       "      <td>1900.0</td>\n",
       "    </tr>\n",
       "    <tr>\n",
       "      <th>25770</th>\n",
       "      <td>151194</td>\n",
       "      <td>Clc1ccc(Nc2nnc(Cc3ccncc3)c3ccccc23)cc1</td>\n",
       "      <td>ZAK</td>\n",
       "      <td>MSSLGASFVQIKFDDLQFFENCGGGSFGSVYRAKWISQDKEVAVKK...</td>\n",
       "      <td>4400.0</td>\n",
       "    </tr>\n",
       "    <tr>\n",
       "      <th>25771</th>\n",
       "      <td>151194</td>\n",
       "      <td>Clc1ccc(Nc2nnc(Cc3ccncc3)c3ccccc23)cc1</td>\n",
       "      <td>ZAP70</td>\n",
       "      <td>MPDPAAHLPFFYGSISRAEAEEHLKLAGMADGLFLLRQCLRSLGGY...</td>\n",
       "      <td>10000.0</td>\n",
       "    </tr>\n",
       "  </tbody>\n",
       "</table>\n",
       "<p>25772 rows × 5 columns</p>\n",
       "</div>"
      ],
      "text/plain": [
       "        Drug_ID                                           Drug Target_ID  \\\n",
       "0      11314340  Cc1[nH]nc2ccc(-c3cncc(OCC(N)Cc4ccccc4)c3)cc12      AAK1   \n",
       "1      11314340  Cc1[nH]nc2ccc(-c3cncc(OCC(N)Cc4ccccc4)c3)cc12     ABL1p   \n",
       "2      11314340  Cc1[nH]nc2ccc(-c3cncc(OCC(N)Cc4ccccc4)c3)cc12      ABL2   \n",
       "3      11314340  Cc1[nH]nc2ccc(-c3cncc(OCC(N)Cc4ccccc4)c3)cc12     ACVR1   \n",
       "4      11314340  Cc1[nH]nc2ccc(-c3cncc(OCC(N)Cc4ccccc4)c3)cc12    ACVR1B   \n",
       "...         ...                                            ...       ...   \n",
       "25767    151194         Clc1ccc(Nc2nnc(Cc3ccncc3)c3ccccc23)cc1       YES   \n",
       "25768    151194         Clc1ccc(Nc2nnc(Cc3ccncc3)c3ccccc23)cc1      YSK1   \n",
       "25769    151194         Clc1ccc(Nc2nnc(Cc3ccncc3)c3ccccc23)cc1      YSK4   \n",
       "25770    151194         Clc1ccc(Nc2nnc(Cc3ccncc3)c3ccccc23)cc1       ZAK   \n",
       "25771    151194         Clc1ccc(Nc2nnc(Cc3ccncc3)c3ccccc23)cc1     ZAP70   \n",
       "\n",
       "                                                  Target        Y  \n",
       "0      MKKFFDSRREQGGSGLGSGSSGGGGSTSGLGSGYIGRVFGIGRQQV...     43.0  \n",
       "1      PFWKILNPLLERGTYYYFMGQQPGKVLGDQRRPSLPALHFIKGAGK...  10000.0  \n",
       "2      MVLGTVLLPPNSYGRDQDTSLCCLCTEASESALPDLTDHFASCVED...  10000.0  \n",
       "3      MVDGVMILPVLIMIALPSPSMEDEKPKVNPKLYMCVCEGLSCGNED...  10000.0  \n",
       "4      MAESAGASSFFPLVVLLLAGSGGSGPRGVQALLCACTSCLQANYTC...  10000.0  \n",
       "...                                                  ...      ...  \n",
       "25767  MGCIKSKENKSPAIKYRPENTPEPVSTSVSHYGAEPTTVSPCPSSS...  10000.0  \n",
       "25768  MAHLRGFANQHSRVDPEELFTKLDRIGKGSFGEVYKGIDNHTKEVV...  10000.0  \n",
       "25769  MSSMPKPERHAESLLDICHDTNSSPTDLMTVTKNQNIILQSISRSE...   1900.0  \n",
       "25770  MSSLGASFVQIKFDDLQFFENCGGGSFGSVYRAKWISQDKEVAVKK...   4400.0  \n",
       "25771  MPDPAAHLPFFYGSISRAEAEEHLKLAGMADGLFLLRQCLRSLGGY...  10000.0  \n",
       "\n",
       "[25772 rows x 5 columns]"
      ]
     },
     "execution_count": 12,
     "metadata": {},
     "output_type": "execute_result"
    }
   ],
   "source": [
    "DAVIS\n"
   ]
  },
  {
   "cell_type": "code",
   "execution_count": null,
   "metadata": {},
   "outputs": [],
   "source": [
    "unique_smiles_count = DAVIS[\"Drug\"].nunique()\n",
    "print(f\"Unique SMILES: {unique_smiles_count}\")\n",
    "unique_target_count = DAVIS[\"Target\"].nunique()\n",
    "print(f\"Unique Targets: {unique_target_count}\")"
   ]
  },
  {
   "cell_type": "markdown",
   "metadata": {},
   "source": [
    "# KIBA"
   ]
  },
  {
   "cell_type": "code",
   "execution_count": 15,
   "metadata": {},
   "outputs": [
    {
     "name": "stderr",
     "output_type": "stream",
     "text": [
      "Found local copy...\n",
      "Loading...\n",
      "Done!\n"
     ]
    }
   ],
   "source": [
    "data_KIBA = DTI(name = 'KIBA')\n",
    "KIBA = data_KIBA.get_data()"
   ]
  },
  {
   "cell_type": "code",
   "execution_count": 16,
   "metadata": {},
   "outputs": [
    {
     "data": {
      "text/html": [
       "<div>\n",
       "<style scoped>\n",
       "    .dataframe tbody tr th:only-of-type {\n",
       "        vertical-align: middle;\n",
       "    }\n",
       "\n",
       "    .dataframe tbody tr th {\n",
       "        vertical-align: top;\n",
       "    }\n",
       "\n",
       "    .dataframe thead th {\n",
       "        text-align: right;\n",
       "    }\n",
       "</style>\n",
       "<table border=\"1\" class=\"dataframe\">\n",
       "  <thead>\n",
       "    <tr style=\"text-align: right;\">\n",
       "      <th></th>\n",
       "      <th>Drug_ID</th>\n",
       "      <th>Drug</th>\n",
       "      <th>Target_ID</th>\n",
       "      <th>Target</th>\n",
       "      <th>Y</th>\n",
       "    </tr>\n",
       "  </thead>\n",
       "  <tbody>\n",
       "    <tr>\n",
       "      <th>0</th>\n",
       "      <td>CHEMBL1087421</td>\n",
       "      <td>COc1cc2c(cc1Cl)C(c1ccc(Cl)c(Cl)c1)=NCC2</td>\n",
       "      <td>O00141</td>\n",
       "      <td>MTVKTEAAKGTLTYSRMRGMVAILIAFMKQRRMGLNDFIQKIANNS...</td>\n",
       "      <td>11.10000</td>\n",
       "    </tr>\n",
       "    <tr>\n",
       "      <th>1</th>\n",
       "      <td>CHEMBL1087421</td>\n",
       "      <td>COc1cc2c(cc1Cl)C(c1ccc(Cl)c(Cl)c1)=NCC2</td>\n",
       "      <td>O14920</td>\n",
       "      <td>MSWSPSLTTQTCGAWEMKERLGTGGFGNVIRWHNQETGEQIAIKQC...</td>\n",
       "      <td>11.10000</td>\n",
       "    </tr>\n",
       "    <tr>\n",
       "      <th>2</th>\n",
       "      <td>CHEMBL1087421</td>\n",
       "      <td>COc1cc2c(cc1Cl)C(c1ccc(Cl)c(Cl)c1)=NCC2</td>\n",
       "      <td>O15111</td>\n",
       "      <td>MERPPGLRPGAGGPWEMRERLGTGGFGNVCLYQHRELDLKIAIKSC...</td>\n",
       "      <td>11.10000</td>\n",
       "    </tr>\n",
       "    <tr>\n",
       "      <th>3</th>\n",
       "      <td>CHEMBL1087421</td>\n",
       "      <td>COc1cc2c(cc1Cl)C(c1ccc(Cl)c(Cl)c1)=NCC2</td>\n",
       "      <td>P00533</td>\n",
       "      <td>MRPSGTAGAALLALLAALCPASRALEEKKVCQGTSNKLTQLGTFED...</td>\n",
       "      <td>11.10000</td>\n",
       "    </tr>\n",
       "    <tr>\n",
       "      <th>4</th>\n",
       "      <td>CHEMBL1087421</td>\n",
       "      <td>COc1cc2c(cc1Cl)C(c1ccc(Cl)c(Cl)c1)=NCC2</td>\n",
       "      <td>P04626</td>\n",
       "      <td>MELAALCRWGLLLALLPPGAASTQVCTGTDMKLRLPASPETHLDML...</td>\n",
       "      <td>11.10000</td>\n",
       "    </tr>\n",
       "    <tr>\n",
       "      <th>...</th>\n",
       "      <td>...</td>\n",
       "      <td>...</td>\n",
       "      <td>...</td>\n",
       "      <td>...</td>\n",
       "      <td>...</td>\n",
       "    </tr>\n",
       "    <tr>\n",
       "      <th>117652</th>\n",
       "      <td>CHEMBL230654</td>\n",
       "      <td>CCCc1nc[nH]c1CNc1cc(Cl)c2ncc(C#N)c(Nc3ccc(F)c(...</td>\n",
       "      <td>Q13554</td>\n",
       "      <td>MATTVTCTRFTDEYQLYEDIGKGAFSVVRRCVKLCTGHEYAAKIIN...</td>\n",
       "      <td>10.49794</td>\n",
       "    </tr>\n",
       "    <tr>\n",
       "      <th>117653</th>\n",
       "      <td>CHEMBL230654</td>\n",
       "      <td>CCCc1nc[nH]c1CNc1cc(Cl)c2ncc(C#N)c(Nc3ccc(F)c(...</td>\n",
       "      <td>Q13555</td>\n",
       "      <td>MATTATCTRFTDDYQLFEELGKGAFSVVRRCVKKTSTQEYAAKIIN...</td>\n",
       "      <td>10.49794</td>\n",
       "    </tr>\n",
       "    <tr>\n",
       "      <th>117654</th>\n",
       "      <td>CHEMBL230654</td>\n",
       "      <td>CCCc1nc[nH]c1CNc1cc(Cl)c2ncc(C#N)c(Nc3ccc(F)c(...</td>\n",
       "      <td>Q13557</td>\n",
       "      <td>MASTTTCTRFTDEYQLFEELGKGAFSVVRRCMKIPTGQEYAAKIIN...</td>\n",
       "      <td>10.49794</td>\n",
       "    </tr>\n",
       "    <tr>\n",
       "      <th>117655</th>\n",
       "      <td>CHEMBL230654</td>\n",
       "      <td>CCCc1nc[nH]c1CNc1cc(Cl)c2ncc(C#N)c(Nc3ccc(F)c(...</td>\n",
       "      <td>Q16539</td>\n",
       "      <td>MSQERPTFYRQELNKTIWEVPERYQNLSPVGSGAYGSVCAAFDTKT...</td>\n",
       "      <td>10.49794</td>\n",
       "    </tr>\n",
       "    <tr>\n",
       "      <th>117656</th>\n",
       "      <td>CHEMBL230654</td>\n",
       "      <td>CCCc1nc[nH]c1CNc1cc(Cl)c2ncc(C#N)c(Nc3ccc(F)c(...</td>\n",
       "      <td>Q9UQM7</td>\n",
       "      <td>MATITCTRFTEEYQLFEELGKGAFSVVRRCVKVLAGQEYAAKIINT...</td>\n",
       "      <td>10.49794</td>\n",
       "    </tr>\n",
       "  </tbody>\n",
       "</table>\n",
       "<p>117657 rows × 5 columns</p>\n",
       "</div>"
      ],
      "text/plain": [
       "              Drug_ID                                               Drug  \\\n",
       "0       CHEMBL1087421            COc1cc2c(cc1Cl)C(c1ccc(Cl)c(Cl)c1)=NCC2   \n",
       "1       CHEMBL1087421            COc1cc2c(cc1Cl)C(c1ccc(Cl)c(Cl)c1)=NCC2   \n",
       "2       CHEMBL1087421            COc1cc2c(cc1Cl)C(c1ccc(Cl)c(Cl)c1)=NCC2   \n",
       "3       CHEMBL1087421            COc1cc2c(cc1Cl)C(c1ccc(Cl)c(Cl)c1)=NCC2   \n",
       "4       CHEMBL1087421            COc1cc2c(cc1Cl)C(c1ccc(Cl)c(Cl)c1)=NCC2   \n",
       "...               ...                                                ...   \n",
       "117652   CHEMBL230654  CCCc1nc[nH]c1CNc1cc(Cl)c2ncc(C#N)c(Nc3ccc(F)c(...   \n",
       "117653   CHEMBL230654  CCCc1nc[nH]c1CNc1cc(Cl)c2ncc(C#N)c(Nc3ccc(F)c(...   \n",
       "117654   CHEMBL230654  CCCc1nc[nH]c1CNc1cc(Cl)c2ncc(C#N)c(Nc3ccc(F)c(...   \n",
       "117655   CHEMBL230654  CCCc1nc[nH]c1CNc1cc(Cl)c2ncc(C#N)c(Nc3ccc(F)c(...   \n",
       "117656   CHEMBL230654  CCCc1nc[nH]c1CNc1cc(Cl)c2ncc(C#N)c(Nc3ccc(F)c(...   \n",
       "\n",
       "       Target_ID                                             Target         Y  \n",
       "0         O00141  MTVKTEAAKGTLTYSRMRGMVAILIAFMKQRRMGLNDFIQKIANNS...  11.10000  \n",
       "1         O14920  MSWSPSLTTQTCGAWEMKERLGTGGFGNVIRWHNQETGEQIAIKQC...  11.10000  \n",
       "2         O15111  MERPPGLRPGAGGPWEMRERLGTGGFGNVCLYQHRELDLKIAIKSC...  11.10000  \n",
       "3         P00533  MRPSGTAGAALLALLAALCPASRALEEKKVCQGTSNKLTQLGTFED...  11.10000  \n",
       "4         P04626  MELAALCRWGLLLALLPPGAASTQVCTGTDMKLRLPASPETHLDML...  11.10000  \n",
       "...          ...                                                ...       ...  \n",
       "117652    Q13554  MATTVTCTRFTDEYQLYEDIGKGAFSVVRRCVKLCTGHEYAAKIIN...  10.49794  \n",
       "117653    Q13555  MATTATCTRFTDDYQLFEELGKGAFSVVRRCVKKTSTQEYAAKIIN...  10.49794  \n",
       "117654    Q13557  MASTTTCTRFTDEYQLFEELGKGAFSVVRRCMKIPTGQEYAAKIIN...  10.49794  \n",
       "117655    Q16539  MSQERPTFYRQELNKTIWEVPERYQNLSPVGSGAYGSVCAAFDTKT...  10.49794  \n",
       "117656    Q9UQM7  MATITCTRFTEEYQLFEELGKGAFSVVRRCVKVLAGQEYAAKIINT...  10.49794  \n",
       "\n",
       "[117657 rows x 5 columns]"
      ]
     },
     "execution_count": 16,
     "metadata": {},
     "output_type": "execute_result"
    }
   ],
   "source": [
    "KIBA"
   ]
  },
  {
   "cell_type": "code",
   "execution_count": null,
   "metadata": {},
   "outputs": [],
   "source": [
    "unique_smiles_count = KIBA[\"Drug\"].nunique()\n",
    "print(f\"Unique SMILES: {unique_smiles_count}\")"
   ]
  },
  {
   "cell_type": "code",
   "execution_count": null,
   "metadata": {},
   "outputs": [],
   "source": [
    "unique_target_count = KIBA[\"Target\"].nunique()\n",
    "print(f\"Unique Targets: {unique_target_count}\")"
   ]
  },
  {
   "cell_type": "markdown",
   "metadata": {},
   "source": [
    "# BindingDB"
   ]
  },
  {
   "cell_type": "code",
   "execution_count": 19,
   "metadata": {},
   "outputs": [
    {
     "name": "stderr",
     "output_type": "stream",
     "text": [
      "Found local copy...\n",
      "Loading...\n",
      "Done!\n"
     ]
    }
   ],
   "source": [
    "dataBD_KD = DTI(name = 'BindingDB_Kd')\n",
    "BD_KD = dataBD_KD.get_data()"
   ]
  },
  {
   "cell_type": "code",
   "execution_count": 20,
   "metadata": {},
   "outputs": [
    {
     "data": {
      "text/html": [
       "<div>\n",
       "<style scoped>\n",
       "    .dataframe tbody tr th:only-of-type {\n",
       "        vertical-align: middle;\n",
       "    }\n",
       "\n",
       "    .dataframe tbody tr th {\n",
       "        vertical-align: top;\n",
       "    }\n",
       "\n",
       "    .dataframe thead th {\n",
       "        text-align: right;\n",
       "    }\n",
       "</style>\n",
       "<table border=\"1\" class=\"dataframe\">\n",
       "  <thead>\n",
       "    <tr style=\"text-align: right;\">\n",
       "      <th></th>\n",
       "      <th>Drug_ID</th>\n",
       "      <th>Drug</th>\n",
       "      <th>Target_ID</th>\n",
       "      <th>Target</th>\n",
       "      <th>Y</th>\n",
       "    </tr>\n",
       "  </thead>\n",
       "  <tbody>\n",
       "    <tr>\n",
       "      <th>0</th>\n",
       "      <td>444607.0</td>\n",
       "      <td>Cc1ccc(CNS(=O)(=O)c2ccc(S(N)(=O)=O)s2)cc1</td>\n",
       "      <td>P00918</td>\n",
       "      <td>MSHHWGYGKHNGPEHWHKDFPIAKGERQSPVDIDTHTAKYDPSLKP...</td>\n",
       "      <td>0.460</td>\n",
       "    </tr>\n",
       "    <tr>\n",
       "      <th>1</th>\n",
       "      <td>4316.0</td>\n",
       "      <td>COc1ccc(CNS(=O)(=O)c2ccc(S(N)(=O)=O)s2)cc1</td>\n",
       "      <td>P00918</td>\n",
       "      <td>MSHHWGYGKHNGPEHWHKDFPIAKGERQSPVDIDTHTAKYDPSLKP...</td>\n",
       "      <td>0.490</td>\n",
       "    </tr>\n",
       "    <tr>\n",
       "      <th>2</th>\n",
       "      <td>4293.0</td>\n",
       "      <td>NS(=O)(=O)c1ccc(S(=O)(=O)NCc2cccs2)s1</td>\n",
       "      <td>P00918</td>\n",
       "      <td>MSHHWGYGKHNGPEHWHKDFPIAKGERQSPVDIDTHTAKYDPSLKP...</td>\n",
       "      <td>0.830</td>\n",
       "    </tr>\n",
       "    <tr>\n",
       "      <th>3</th>\n",
       "      <td>1611.0</td>\n",
       "      <td>NS(=O)(=O)c1cc2c(s1)S(=O)(=O)N(Cc1cccs1)CC2O</td>\n",
       "      <td>P00918</td>\n",
       "      <td>MSHHWGYGKHNGPEHWHKDFPIAKGERQSPVDIDTHTAKYDPSLKP...</td>\n",
       "      <td>0.200</td>\n",
       "    </tr>\n",
       "    <tr>\n",
       "      <th>4</th>\n",
       "      <td>1612.0</td>\n",
       "      <td>COc1ccc(N2CC(O)c3cc(S(N)(=O)=O)sc3S2(=O)=O)cc1</td>\n",
       "      <td>P00918</td>\n",
       "      <td>MSHHWGYGKHNGPEHWHKDFPIAKGERQSPVDIDTHTAKYDPSLKP...</td>\n",
       "      <td>0.160</td>\n",
       "    </tr>\n",
       "    <tr>\n",
       "      <th>...</th>\n",
       "      <td>...</td>\n",
       "      <td>...</td>\n",
       "      <td>...</td>\n",
       "      <td>...</td>\n",
       "      <td>...</td>\n",
       "    </tr>\n",
       "    <tr>\n",
       "      <th>52269</th>\n",
       "      <td>53358942.0</td>\n",
       "      <td>COc1cc(C(=O)O)ccc1NC(=O)[C@@H]1N[C@@H](CC(C)(C...</td>\n",
       "      <td>NaN</td>\n",
       "      <td>MCNTNMSVPTDGAVTTSQIPASEQETLVRPKPLLLKLLKSVGAQKD...</td>\n",
       "      <td>0.150</td>\n",
       "    </tr>\n",
       "    <tr>\n",
       "      <th>52270</th>\n",
       "      <td>53476877.0</td>\n",
       "      <td>CC(C)(C)C[C@@H]1N[C@@H](C(=O)N[C@H]2CC[C@H](O)...</td>\n",
       "      <td>NaN</td>\n",
       "      <td>MCNTNMSVPTDGAVTTSQIPASEQETLVRPKPLLLKLLKSVGAQKD...</td>\n",
       "      <td>2.700</td>\n",
       "    </tr>\n",
       "    <tr>\n",
       "      <th>52271</th>\n",
       "      <td>58573469.0</td>\n",
       "      <td>CC(C)[C@@H](CS(=O)(=O)C(C)C)N1C(=O)[C@@](C)(CC...</td>\n",
       "      <td>NaN</td>\n",
       "      <td>MCNTNMSVPTDGAVTTSQIPASEQETLVRPKPLLLKLLKSVGAQKD...</td>\n",
       "      <td>0.045</td>\n",
       "    </tr>\n",
       "    <tr>\n",
       "      <th>52272</th>\n",
       "      <td>113557.0</td>\n",
       "      <td>CCCCCCCOC1OC(CO)C(O)C(O)C1O</td>\n",
       "      <td>P08191</td>\n",
       "      <td>MKRVITLFAVLLMGWSVNAWSFACKTANGTAIPIGGGSANVYVNLA...</td>\n",
       "      <td>17.000</td>\n",
       "    </tr>\n",
       "    <tr>\n",
       "      <th>52273</th>\n",
       "      <td>113557.0</td>\n",
       "      <td>CCCCCCCOC1OC(CO)C(O)C(O)C1O</td>\n",
       "      <td>P08191</td>\n",
       "      <td>MKRVITLFAVLLMGWSVNAWSFACKTANGTAIPIGGGSANVYVNLA...</td>\n",
       "      <td>19.000</td>\n",
       "    </tr>\n",
       "  </tbody>\n",
       "</table>\n",
       "<p>52274 rows × 5 columns</p>\n",
       "</div>"
      ],
      "text/plain": [
       "          Drug_ID                                               Drug  \\\n",
       "0        444607.0          Cc1ccc(CNS(=O)(=O)c2ccc(S(N)(=O)=O)s2)cc1   \n",
       "1          4316.0         COc1ccc(CNS(=O)(=O)c2ccc(S(N)(=O)=O)s2)cc1   \n",
       "2          4293.0              NS(=O)(=O)c1ccc(S(=O)(=O)NCc2cccs2)s1   \n",
       "3          1611.0       NS(=O)(=O)c1cc2c(s1)S(=O)(=O)N(Cc1cccs1)CC2O   \n",
       "4          1612.0     COc1ccc(N2CC(O)c3cc(S(N)(=O)=O)sc3S2(=O)=O)cc1   \n",
       "...           ...                                                ...   \n",
       "52269  53358942.0  COc1cc(C(=O)O)ccc1NC(=O)[C@@H]1N[C@@H](CC(C)(C...   \n",
       "52270  53476877.0  CC(C)(C)C[C@@H]1N[C@@H](C(=O)N[C@H]2CC[C@H](O)...   \n",
       "52271  58573469.0  CC(C)[C@@H](CS(=O)(=O)C(C)C)N1C(=O)[C@@](C)(CC...   \n",
       "52272    113557.0                        CCCCCCCOC1OC(CO)C(O)C(O)C1O   \n",
       "52273    113557.0                        CCCCCCCOC1OC(CO)C(O)C(O)C1O   \n",
       "\n",
       "      Target_ID                                             Target       Y  \n",
       "0        P00918  MSHHWGYGKHNGPEHWHKDFPIAKGERQSPVDIDTHTAKYDPSLKP...   0.460  \n",
       "1        P00918  MSHHWGYGKHNGPEHWHKDFPIAKGERQSPVDIDTHTAKYDPSLKP...   0.490  \n",
       "2        P00918  MSHHWGYGKHNGPEHWHKDFPIAKGERQSPVDIDTHTAKYDPSLKP...   0.830  \n",
       "3        P00918  MSHHWGYGKHNGPEHWHKDFPIAKGERQSPVDIDTHTAKYDPSLKP...   0.200  \n",
       "4        P00918  MSHHWGYGKHNGPEHWHKDFPIAKGERQSPVDIDTHTAKYDPSLKP...   0.160  \n",
       "...         ...                                                ...     ...  \n",
       "52269       NaN  MCNTNMSVPTDGAVTTSQIPASEQETLVRPKPLLLKLLKSVGAQKD...   0.150  \n",
       "52270       NaN  MCNTNMSVPTDGAVTTSQIPASEQETLVRPKPLLLKLLKSVGAQKD...   2.700  \n",
       "52271       NaN  MCNTNMSVPTDGAVTTSQIPASEQETLVRPKPLLLKLLKSVGAQKD...   0.045  \n",
       "52272    P08191  MKRVITLFAVLLMGWSVNAWSFACKTANGTAIPIGGGSANVYVNLA...  17.000  \n",
       "52273    P08191  MKRVITLFAVLLMGWSVNAWSFACKTANGTAIPIGGGSANVYVNLA...  19.000  \n",
       "\n",
       "[52274 rows x 5 columns]"
      ]
     },
     "execution_count": 20,
     "metadata": {},
     "output_type": "execute_result"
    }
   ],
   "source": [
    "BD_KD"
   ]
  },
  {
   "cell_type": "code",
   "execution_count": null,
   "metadata": {},
   "outputs": [],
   "source": [
    "unique_smiles_count = BD_KD[\"Drug_ID\"].nunique()\n",
    "print(f\"Unique SMILES: {unique_smiles_count}\")\n",
    "unique_target_count = BD_KD[\"Target\"].nunique()\n",
    "print(f\"Unique Targets: {unique_target_count}\")"
   ]
  },
  {
   "cell_type": "code",
   "execution_count": 22,
   "metadata": {},
   "outputs": [
    {
     "name": "stderr",
     "output_type": "stream",
     "text": [
      "Found local copy...\n",
      "Loading...\n",
      "Done!\n"
     ]
    }
   ],
   "source": [
    "dataBD_IC50 = DTI(name = 'BindingDB_IC50')\n",
    "BD_IC50 = dataBD_IC50.get_data()\n"
   ]
  },
  {
   "cell_type": "code",
   "execution_count": 23,
   "metadata": {},
   "outputs": [
    {
     "data": {
      "text/html": [
       "<div>\n",
       "<style scoped>\n",
       "    .dataframe tbody tr th:only-of-type {\n",
       "        vertical-align: middle;\n",
       "    }\n",
       "\n",
       "    .dataframe tbody tr th {\n",
       "        vertical-align: top;\n",
       "    }\n",
       "\n",
       "    .dataframe thead th {\n",
       "        text-align: right;\n",
       "    }\n",
       "</style>\n",
       "<table border=\"1\" class=\"dataframe\">\n",
       "  <thead>\n",
       "    <tr style=\"text-align: right;\">\n",
       "      <th></th>\n",
       "      <th>Drug_ID</th>\n",
       "      <th>Drug</th>\n",
       "      <th>Target_ID</th>\n",
       "      <th>Target</th>\n",
       "      <th>Y</th>\n",
       "    </tr>\n",
       "  </thead>\n",
       "  <tbody>\n",
       "    <tr>\n",
       "      <th>0</th>\n",
       "      <td>71463198.0</td>\n",
       "      <td>Cc1nc(CN2CCN(c3c(Cl)cnc4[nH]c(-c5cn(C)nc5C)nc3...</td>\n",
       "      <td>P08684</td>\n",
       "      <td>MALIPDLAMETWLLLAVSLVLLYLYGTHSHGLFKKLGIPGPTPLPF...</td>\n",
       "      <td>50000.0</td>\n",
       "    </tr>\n",
       "    <tr>\n",
       "      <th>1</th>\n",
       "      <td>44640149.0</td>\n",
       "      <td>O=C1CCCC2=C1C1(CCS(=O)(=O)C1)N=C(Nc1nc3ccccc3o...</td>\n",
       "      <td>P51570</td>\n",
       "      <td>MAALRQPQVAELLAEARRAFREEFGAEPELAVSAPGRVNLIGEHTD...</td>\n",
       "      <td>6676.9</td>\n",
       "    </tr>\n",
       "    <tr>\n",
       "      <th>2</th>\n",
       "      <td>65023.0</td>\n",
       "      <td>CC(=O)N[C@H](C(=O)N[C@@H](Cc1ccccc1)[C@@H](O)C...</td>\n",
       "      <td>NaN</td>\n",
       "      <td>PQITLWQRPLVTIKIGGQLKEALLDTGADDTVLEEMNLPGRWKPKM...</td>\n",
       "      <td>8.5</td>\n",
       "    </tr>\n",
       "    <tr>\n",
       "      <th>3</th>\n",
       "      <td>461984.0</td>\n",
       "      <td>CCOC(=O)N[C@H](C(=O)N[C@@H](Cc1ccccc1)[C@@H](O...</td>\n",
       "      <td>NaN</td>\n",
       "      <td>PQITLWQRPLVTIKIGGQLKEALLDTGADDTVLEEMNLPGRWKPKM...</td>\n",
       "      <td>177.0</td>\n",
       "    </tr>\n",
       "    <tr>\n",
       "      <th>4</th>\n",
       "      <td>461988.0</td>\n",
       "      <td>COCCOC(=O)N[C@H](C(=O)N[C@@H](Cc1ccccc1)[C@@H]...</td>\n",
       "      <td>NaN</td>\n",
       "      <td>PQITLWQRPLVTIKIGGQLKEALLDTGADDTVLEEMNLPGRWKPKM...</td>\n",
       "      <td>164.0</td>\n",
       "    </tr>\n",
       "    <tr>\n",
       "      <th>...</th>\n",
       "      <td>...</td>\n",
       "      <td>...</td>\n",
       "      <td>...</td>\n",
       "      <td>...</td>\n",
       "      <td>...</td>\n",
       "    </tr>\n",
       "    <tr>\n",
       "      <th>990625</th>\n",
       "      <td>76336413.0</td>\n",
       "      <td>COc1ccc2c(c1)oc1cccc(CNCc3ccccc3)c12</td>\n",
       "      <td>P81908</td>\n",
       "      <td>EEDIIITTKNGKVRGMNLPVLGGTVTAFLGIPYAQPPLGRLRFKKP...</td>\n",
       "      <td>18100.0</td>\n",
       "    </tr>\n",
       "    <tr>\n",
       "      <th>990626</th>\n",
       "      <td>76311049.0</td>\n",
       "      <td>CC(C)NCc1cccc2oc3cc(O)ccc3c12</td>\n",
       "      <td>P81908</td>\n",
       "      <td>EEDIIITTKNGKVRGMNLPVLGGTVTAFLGIPYAQPPLGRLRFKKP...</td>\n",
       "      <td>18360.0</td>\n",
       "    </tr>\n",
       "    <tr>\n",
       "      <th>990627</th>\n",
       "      <td>76321936.0</td>\n",
       "      <td>COc1ccc2c(c1)oc1cccc(CN(C(=O)CCO[N+](=O)[O-])C...</td>\n",
       "      <td>P81908</td>\n",
       "      <td>EEDIIITTKNGKVRGMNLPVLGGTVTAFLGIPYAQPPLGRLRFKKP...</td>\n",
       "      <td>14300.0</td>\n",
       "    </tr>\n",
       "    <tr>\n",
       "      <th>990628</th>\n",
       "      <td>76329133.0</td>\n",
       "      <td>COc1ccc2c(c1)[nH]c1cccc(CNC(C)C)c12</td>\n",
       "      <td>P81908</td>\n",
       "      <td>EEDIIITTKNGKVRGMNLPVLGGTVTAFLGIPYAQPPLGRLRFKKP...</td>\n",
       "      <td>10080.0</td>\n",
       "    </tr>\n",
       "    <tr>\n",
       "      <th>990629</th>\n",
       "      <td>76311049.0</td>\n",
       "      <td>CC(C)NCc1cccc2oc3cc(O)ccc3c12</td>\n",
       "      <td>O42275</td>\n",
       "      <td>MKILDALLFPVIFIMFFIHLSIAQTDPELTIMTRLGQVQGTRLPVP...</td>\n",
       "      <td>22600.0</td>\n",
       "    </tr>\n",
       "  </tbody>\n",
       "</table>\n",
       "<p>990630 rows × 5 columns</p>\n",
       "</div>"
      ],
      "text/plain": [
       "           Drug_ID                                               Drug  \\\n",
       "0       71463198.0  Cc1nc(CN2CCN(c3c(Cl)cnc4[nH]c(-c5cn(C)nc5C)nc3...   \n",
       "1       44640149.0  O=C1CCCC2=C1C1(CCS(=O)(=O)C1)N=C(Nc1nc3ccccc3o...   \n",
       "2          65023.0  CC(=O)N[C@H](C(=O)N[C@@H](Cc1ccccc1)[C@@H](O)C...   \n",
       "3         461984.0  CCOC(=O)N[C@H](C(=O)N[C@@H](Cc1ccccc1)[C@@H](O...   \n",
       "4         461988.0  COCCOC(=O)N[C@H](C(=O)N[C@@H](Cc1ccccc1)[C@@H]...   \n",
       "...            ...                                                ...   \n",
       "990625  76336413.0               COc1ccc2c(c1)oc1cccc(CNCc3ccccc3)c12   \n",
       "990626  76311049.0                      CC(C)NCc1cccc2oc3cc(O)ccc3c12   \n",
       "990627  76321936.0  COc1ccc2c(c1)oc1cccc(CN(C(=O)CCO[N+](=O)[O-])C...   \n",
       "990628  76329133.0                COc1ccc2c(c1)[nH]c1cccc(CNC(C)C)c12   \n",
       "990629  76311049.0                      CC(C)NCc1cccc2oc3cc(O)ccc3c12   \n",
       "\n",
       "       Target_ID                                             Target        Y  \n",
       "0         P08684  MALIPDLAMETWLLLAVSLVLLYLYGTHSHGLFKKLGIPGPTPLPF...  50000.0  \n",
       "1         P51570  MAALRQPQVAELLAEARRAFREEFGAEPELAVSAPGRVNLIGEHTD...   6676.9  \n",
       "2            NaN  PQITLWQRPLVTIKIGGQLKEALLDTGADDTVLEEMNLPGRWKPKM...      8.5  \n",
       "3            NaN  PQITLWQRPLVTIKIGGQLKEALLDTGADDTVLEEMNLPGRWKPKM...    177.0  \n",
       "4            NaN  PQITLWQRPLVTIKIGGQLKEALLDTGADDTVLEEMNLPGRWKPKM...    164.0  \n",
       "...          ...                                                ...      ...  \n",
       "990625    P81908  EEDIIITTKNGKVRGMNLPVLGGTVTAFLGIPYAQPPLGRLRFKKP...  18100.0  \n",
       "990626    P81908  EEDIIITTKNGKVRGMNLPVLGGTVTAFLGIPYAQPPLGRLRFKKP...  18360.0  \n",
       "990627    P81908  EEDIIITTKNGKVRGMNLPVLGGTVTAFLGIPYAQPPLGRLRFKKP...  14300.0  \n",
       "990628    P81908  EEDIIITTKNGKVRGMNLPVLGGTVTAFLGIPYAQPPLGRLRFKKP...  10080.0  \n",
       "990629    O42275  MKILDALLFPVIFIMFFIHLSIAQTDPELTIMTRLGQVQGTRLPVP...  22600.0  \n",
       "\n",
       "[990630 rows x 5 columns]"
      ]
     },
     "execution_count": 23,
     "metadata": {},
     "output_type": "execute_result"
    }
   ],
   "source": [
    "BD_IC50"
   ]
  },
  {
   "cell_type": "code",
   "execution_count": null,
   "metadata": {},
   "outputs": [],
   "source": [
    "unique_smiles_count = BD_IC50[\"Drug_ID\"].nunique()\n",
    "print(f\"Unique SMILES: {unique_smiles_count}\")\n",
    "unique_target_count = BD_IC50[\"Target\"].nunique()\n",
    "print(f\"Unique Targets: {unique_target_count}\")"
   ]
  },
  {
   "cell_type": "code",
   "execution_count": 25,
   "metadata": {},
   "outputs": [
    {
     "name": "stderr",
     "output_type": "stream",
     "text": [
      "Found local copy...\n",
      "Loading...\n",
      "Done!\n"
     ]
    }
   ],
   "source": [
    "dataBD_KI = DTI(name = 'BindingDB_Ki')\n",
    "BD_KI = dataBD_KI.get_data()"
   ]
  },
  {
   "cell_type": "code",
   "execution_count": null,
   "metadata": {},
   "outputs": [],
   "source": [
    "BD_KI"
   ]
  },
  {
   "cell_type": "code",
   "execution_count": null,
   "metadata": {},
   "outputs": [],
   "source": [
    "unique_smiles_count = BD_KI[\"Drug_ID\"].nunique()\n",
    "print(f\"Unique SMILES: {unique_smiles_count}\")\n",
    "unique_target_count = BD_KI[\"Target\"].nunique()\n",
    "print(f\"Unique Targets: {unique_target_count}\")"
   ]
  },
  {
   "cell_type": "markdown",
   "metadata": {},
   "source": [
    "# Metz"
   ]
  },
  {
   "cell_type": "code",
   "execution_count": null,
   "metadata": {},
   "outputs": [],
   "source": [
    "import pandas as pd\n",
    "\n",
    "file_path = \"/home/resperanca/Tuberculosis Tese/data/Metz.csv\"\n",
    "METZ = pd.read_csv(file_path)\n",
    "print(METZ.shape[0])\n",
    "print(METZ.columns)"
   ]
  },
  {
   "cell_type": "code",
   "execution_count": null,
   "metadata": {},
   "outputs": [],
   "source": [
    "unique_smiles_count = METZ[\"SMILES\"].nunique()\n",
    "print(f\"Unique SMILES: {unique_smiles_count}\")"
   ]
  },
  {
   "cell_type": "code",
   "execution_count": null,
   "metadata": {},
   "outputs": [],
   "source": [
    "unique_smiles_count = METZ[\"ProteinSequence\"].nunique()\n",
    "print(f\"Unique Targets: {unique_smiles_count}\")"
   ]
  },
  {
   "cell_type": "markdown",
   "metadata": {},
   "source": [
    "# Human\n"
   ]
  },
  {
   "cell_type": "code",
   "execution_count": null,
   "metadata": {},
   "outputs": [],
   "source": [
    "file_path = \"/home/resperanca/Tuberculosis Tese/data/Human.csv\"\n",
    "df_Human = pd.read_csv(file_path)\n",
    "print(df_Human.shape[0])\n",
    "print(df_Human.columns)"
   ]
  },
  {
   "cell_type": "code",
   "execution_count": null,
   "metadata": {},
   "outputs": [],
   "source": [
    "unique_smiles_count = df_Human[\"compound_iso_smiles\"].nunique()\n",
    "print(f\"Unique SMILES: {unique_smiles_count}\")\n",
    "unique_target_count = df_Human[\"target_sequence\"].nunique()\n",
    "print(f\"Unique Targets: {unique_target_count}\")"
   ]
  },
  {
   "cell_type": "markdown",
   "metadata": {},
   "source": [
    "# C. elegans"
   ]
  },
  {
   "cell_type": "code",
   "execution_count": null,
   "metadata": {},
   "outputs": [],
   "source": [
    "file_path = \"/home/resperanca/Tuberculosis Tese/data/C_elegans.csv\"\n",
    "df_elangs = pd.read_csv(file_path)\n",
    "print(df_elangs.shape[0])\n",
    "print(df_elangs.columns)"
   ]
  },
  {
   "cell_type": "code",
   "execution_count": null,
   "metadata": {},
   "outputs": [],
   "source": [
    "unique_smiles_count = df_elangs[\"smile\"].nunique()\n",
    "print(f\"Unique SMILES: {unique_smiles_count}\")\n",
    "unique_target_count = df_elangs[\"protein\"].nunique()\n",
    "print(f\"Unique Targets: {unique_target_count}\")"
   ]
  },
  {
   "cell_type": "markdown",
   "metadata": {},
   "source": [
    "# "
   ]
  }
 ],
 "metadata": {
  "kernelspec": {
   "display_name": "rdkit_env",
   "language": "python",
   "name": "python3"
  },
  "language_info": {
   "codemirror_mode": {
    "name": "ipython",
    "version": 3
   },
   "file_extension": ".py",
   "mimetype": "text/x-python",
   "name": "python",
   "nbconvert_exporter": "python",
   "pygments_lexer": "ipython3",
   "version": "3.8.20"
  }
 },
 "nbformat": 4,
 "nbformat_minor": 2
}
