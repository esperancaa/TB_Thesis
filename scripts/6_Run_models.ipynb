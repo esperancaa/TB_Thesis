{
 "cells": [
  {
   "cell_type": "code",
   "execution_count": 2,
   "id": "65376ffe",
   "metadata": {},
   "outputs": [],
   "source": [
    "import pandas as pd"
   ]
  },
  {
   "cell_type": "code",
   "execution_count": null,
   "id": "21d8d903",
   "metadata": {},
   "outputs": [],
   "source": [
    "\n",
    "df_drugs = pd.read_csv(\"//home/resperanca/Tuberculosis_Tese/Data/Tuberculosis_Data/tb_final3_READY.csv\")"
   ]
  },
  {
   "cell_type": "code",
   "execution_count": null,
   "id": "514006c4",
   "metadata": {},
   "outputs": [],
   "source": [
    "alvo = \"Pantothenate synthetase\"\n",
    "resultado = df_drugs[df_drugs[\"Target Name\"] == alvo]\n",
    "\n",
    "print(resultado)"
   ]
  },
  {
   "cell_type": "markdown",
   "id": "17642dea",
   "metadata": {},
   "source": [
    "# 50 most import targets"
   ]
  },
  {
   "cell_type": "code",
   "execution_count": null,
   "id": "1f01e004",
   "metadata": {},
   "outputs": [],
   "source": [
    "alvos = [\n",
    "    \"Enoyl-[acyl-carrier-protein] reductase\",\n",
    "    \"Arabinosyltransferase A (embA)\",\n",
    "    \"DNA-directed RNA polymerase beta chain\",\n",
    "    \"Thymidylate kinase (TMK)\",\n",
    "    \"3-oxoacyl-[acyl-carrier-protein] synthase III( mtFabH)\",\n",
    "    \"3-oxoacyl-[acyl-carrier-protein] synthase 2\",\n",
    "    \"3-oxoacyl-[acyl-carrier-protein] synthase 1\",\n",
    "    \"Cell division protein FtsZ\",\n",
    "    \"UDP-galactopiranose mutase (UGM)\",\n",
    "    \"DNA girase (GyrA)\",\n",
    "    \"1-deoxy-D-xylulose-5-phosphate synthase\",\n",
    "    \"1-deoxy-D-xylulose 5-phosphate reductoisomerase\",\n",
    "    \"Peptide deformylase\",\n",
    "    \"Pantothenate synthetase\",\n",
    "    \"Probable serine/threonine-protein kinase pknG\",\n",
    "    \"UDP-galactofuranosyl transferase GlfT2\",\n",
    "    \"Purine nucleoside phosphorylase\",\n",
    "    \"Isocitrate lyase\",\n",
    "    \"Cytochrome P450 121\",\n",
    "    \"HTH-type transcriptional regulator EthR\",\n",
    "    \"Thymidylate synthase thyX\",\n",
    "    \"Serine/threonine-protein kinase pknB\",\n",
    "    \"DNA ligase\",\n",
    "    \"Ribonucleoside-diphosphate reductase subunit alpha\",\n",
    "    \"ATP synthase\",\n",
    "    \"Thioredoxin reductase\",\n",
    "    \"2-C-methyl-D-erythritol 2 4-cyclodiphosphate synthase\",\n",
    "    \"DNA gyrase subunit A/DNA gyrase subunit B\",\n",
    "    \"Biotin--acetyl-CoA-carboxylase ligase\",\n",
    "    \"FAD-dependent decaprenylphosphoryl-beta-D-ribofuranose 2-oxidase\",\n",
    "    \"N-acetyltransferase Eis\",\n",
    "    \"Dihydrolipoyllysine-residue acetyltransferase component of pyruvate dehydrogenase complex\",\n",
    "    \"Leucine--tRNA ligase\",\n",
    "    \"Polyketide synthase Pks13\",\n",
    "    \"Serine/threonine-protein kinase PknA\",\n",
    "    \"Inosine-5'-monophosphate dehydrogenase\",\n",
    "    \"Isocitrate lyase 1\",\n",
    "    \"Long-chain-fatty-acid--AMP ligase FadD32\",\n",
    "    \"ATP-dependent Clp protease ATP-binding subunit ClpC1\",\n",
    "    \"Tryptophan--tRNA ligase\",\n",
    "    \"Coenzyme A biosynthesis bifunctional protein CoaBC\",\n",
    "    \"ClpP1P2\",\n",
    "    \"Type II NADH:quinone oxidoreductase Ndh\",\n",
    "    \"Type II NADH:quinone oxidoreductase NdhA\",\n",
    "    \"4'-phosphopantetheinyl transferase PptT\",\n",
    "    \"Protein RecA\",\n",
    "    \"Pyrazinamidase/nicotinamidase PncA\",\n",
    "    \"DNA-directed RNA polymerase subunit beta'\",\n",
    "    \"Catalase-peroxidase\",\n",
    "    \"ATP synthase subunit c\"\n",
    "]"
   ]
  },
  {
   "cell_type": "markdown",
   "id": "30338dc1",
   "metadata": {},
   "source": [
    "# 10 most importante targets:"
   ]
  },
  {
   "cell_type": "code",
   "execution_count": null,
   "id": "a423a8cb",
   "metadata": {},
   "outputs": [],
   "source": [
    "alvos = [\"Pantothenate synthetase\",  \n",
    "    \"Arabinosyltransferase A\",                 \n",
    "    \"DNA-directed RNA polymerase beta chain\",         \n",
    "    \"Thymidylate kinase\",\n",
    "    \"3-oxoacyl-[acyl-carrier-protein] synthase III\",\n",
    "    \"3-oxoacyl-[acyl-carrier-protein] synthase 2\",\n",
    "    \"3-oxoacyl-[acyl-carrier-protein] synthase 1\",\n",
    "    \"Cell division protein FtsZ\",\n",
    "    \"1-deoxy-D-xylulose-5-phosphate synthase\",\n",
    "    \"Peptide deformylase\"  \n",
    "   \n",
    "]"
   ]
  },
  {
   "cell_type": "markdown",
   "id": "d82d8b28",
   "metadata": {},
   "source": [
    "# Only isoniazid"
   ]
  },
  {
   "cell_type": "code",
   "execution_count": 25,
   "id": "18178b7e",
   "metadata": {},
   "outputs": [],
   "source": [
    "alvos_1 = [\"Enoyl-[acyl-carrier-protein] reductase\",  # alvo da isoniazida\n",
    "]"
   ]
  },
  {
   "cell_type": "markdown",
   "id": "5c335845",
   "metadata": {},
   "source": [
    "### Dataset creation"
   ]
  },
  {
   "cell_type": "code",
   "execution_count": null,
   "id": "4edf2285",
   "metadata": {},
   "outputs": [],
   "source": [
    "\n",
    "# df_filtrado = df_drugs[df_drugs[\"Target Name\"].isin(alvos)]\n",
    "\n",
    "# # Salvar novo dataset\n",
    "# df_filtrado.to_csv(\"Targets_10.csv\", index=False)"
   ]
  },
  {
   "cell_type": "code",
   "execution_count": null,
   "id": "fceb1601",
   "metadata": {},
   "outputs": [],
   "source": [
    "\n",
    "\n",
    "# df_drugs = pd.read_csv(\"/home/resperanca/Tuberculosis_Tese/Data/DTI_Data_2_step/Papyrus_Barlow.csv\")  # ajuste o caminho\n",
    "# drugs = df_drugs[\"smiles\"].astype(str).str.strip().dropna().drop_duplicates()\n",
    "\n",
    "\n",
    "# df_targets = pd.read_csv(\"/home/resperanca/Tuberculosis_Tese/Data/Tuberculosis_Data/Targets_10.csv\")  # ajuste o caminho\n",
    "# targets = df_targets[\"Target Sequence\"].astype(str).str.strip().dropna().drop_duplicates()\n",
    "\n",
    "\n",
    "# pairs = pd.merge(drugs.to_frame(name=\"smiles\").assign(key=1),\n",
    "#                   targets.to_frame(name=\"Target Sequence\").assign(key=1),\n",
    "#                   on=\"key\").drop(columns=\"key\")\n",
    "\n",
    "# =\n",
    "# pairs.to_csv(\"drug_target_pairs_results_10.csv\", index=False)"
   ]
  },
  {
   "cell_type": "markdown",
   "id": "a5e0f62b",
   "metadata": {},
   "source": [
    "## BARLOW TWINS RUN"
   ]
  },
  {
   "cell_type": "code",
   "execution_count": 8,
   "id": "65111a42",
   "metadata": {},
   "outputs": [],
   "source": [
    "import pandas as pd\n",
    "import numpy as np\n",
    "import torch\n",
    "from torch.utils.data import DataLoader\n",
    "import sys\n",
    "sys.path.append(\"/home/resperanca/Tuberculosis_Tese/Source/Models/BarlowDTI\")\n",
    "\n"
   ]
  },
  {
   "cell_type": "code",
   "execution_count": 9,
   "id": "4c3c9e82",
   "metadata": {},
   "outputs": [
    {
     "name": "stderr",
     "output_type": "stream",
     "text": [
      "/home/resperanca/miniconda3/envs/rdkit_env/lib/python3.8/site-packages/tqdm/auto.py:21: TqdmWarning: IProgress not found. Please update jupyter and ipywidgets. See https://ipywidgets.readthedocs.io/en/stable/user_install.html\n",
      "  from .autonotebook import tqdm as notebook_tqdm\n",
      "You are using the default legacy behaviour of the <class 'transformers.models.t5.tokenization_t5.T5Tokenizer'>. This is expected, and simply means that the `legacy` (previous) behavior will be used so nothing changes for you. If you want to use the new behaviour, set `legacy=False`. This should only be set if you understand what it means, and thoroughly read the reason why this was added as explained in https://github.com/huggingface/transformers/pull/24565\n"
     ]
    }
   ],
   "source": [
    "sys.path.append(\"/home/resperanca/Tuberculosis_Tese/Source/Models/BarlowDTI/utils\")\n",
    "\n",
    "from utils.sequence import uniprot2sequence, encode_sequences\n",
    "from utils.chem import *\n",
    "from utils.parallel import *\n",
    "from utils.sequence import encode_sequences\n",
    "from utils.chem import get_mols, get_fp  "
   ]
  },
  {
   "cell_type": "code",
   "execution_count": 10,
   "id": "2d74f9a0",
   "metadata": {},
   "outputs": [],
   "source": [
    "import pickle\n",
    "from tqdm.notebook import tqdm\n",
    "from sklearn.metrics import roc_auc_score, average_precision_score\n",
    "from rdkit import Chem\n",
    "from xgboost import XGBClassifier\n",
    "\n",
    "sys.path.append(\"/home/resperanca/Tuberculosis_Tese/Source/Models/BarlowDTI/model\")\n",
    "\n",
    "from base_model import BaseModel\n",
    "from preprocessor import Preprocessor\n",
    "from barlow_twins import BarlowTwins\n",
    "\n"
   ]
  },
  {
   "cell_type": "code",
   "execution_count": 11,
   "id": "c7ce4fea",
   "metadata": {},
   "outputs": [],
   "source": [
    "import numpy as np, pandas as pd\n",
    "from rdkit import Chem\n",
    "from rdkit.Chem import AllChem\n",
    "from xgboost import XGBClassifier\n",
    "import joblib\n",
    "\n",
    "#in_csv = \"/home/resperanca/Tuberculosis_Tese/Source/dados_parte1.csv\"\n",
    "bt_dir = \"/home/resperanca/Tuberculosis_Tese/Source/Models/BarlowDTI/model/stash/Papyrus_tb\"           \n",
    "xgb_json = \"/home/resperanca/Tuberculosis_Tese/Source/Models/BarlowDTI/model/xxl_stash/Papyrus_tb_barlowdti_xxl_model_tb_pap.json\"\n",
    "svm_pkl  = \"/home/resperanca/Tuberculosis_Tese/Source/Models/BarlowDTI/model/xxl_stash/Papyrus_tb_barlowdti_xxl_model_svm_tb_pap.pkl\"\n",
    "scaler_pkl = \"/home/resperanca/Tuberculosis_Tese/Source/Models/BarlowDTI/model/xxl_stash/Papyrus_tb_barlowdti_xxl_svm_scaler_tb_pap.pkl\""
   ]
  },
  {
   "cell_type": "code",
   "execution_count": null,
   "id": "eba2fa87",
   "metadata": {},
   "outputs": [
    {
     "name": "stderr",
     "output_type": "stream",
     "text": []
    }
   ],
   "source": [
    "\n",
    "\n",
    "preprocessor = Preprocessor(\n",
    "    path=\"/home/resperanca/Tuberculosis_Tese/Data/Model_results/drug_target_pairs_results_10.csv\",  \n",
    "    radius=2,\n",
    "    n_bits=1024,\n",
    "    aa_embedding=\"prot_t5\",\n",
    "    num_workers=4\n",
    ")\n",
    "\n",
    "# import pickle\n",
    "# with open(\"preprocessor_f.pkl\", \"wb\") as f:\n",
    "#     pickle.dump(preprocessor, f)"
   ]
  },
  {
   "cell_type": "code",
   "execution_count": null,
   "id": "8a80804b",
   "metadata": {},
   "outputs": [],
   "source": [
    "device = torch.device(\"cuda:0\" if torch.cuda.is_available() else \"cpu\")\n",
    "model = BarlowTwins()\n",
    "model.load_model(\"/home/resperanca/Tuberculosis_Tese/Source/Models/BarlowDTI/model/stash/Papyrus_tb\")  \n",
    "model.move_to_device(device)"
   ]
  },
  {
   "cell_type": "code",
   "execution_count": null,
   "id": "49f3a926",
   "metadata": {},
   "outputs": [],
   "source": [
    "fps = preprocessor.fp\n",
    "aas = preprocessor.aa"
   ]
  },
  {
   "cell_type": "code",
   "execution_count": null,
   "id": "e56ebcd2",
   "metadata": {},
   "outputs": [],
   "source": [
    "\n",
    "bt = BarlowTwins()\n",
    "bt.load_model(bt_dir)                 \n",
    "X = bt.zero_shot(fps, aas)           \n"
   ]
  },
  {
   "cell_type": "code",
   "execution_count": null,
   "id": "4605f591",
   "metadata": {},
   "outputs": [],
   "source": [
    "# XGBoost \n",
    "xgb = XGBClassifier()\n",
    "xgb.load_model(xgb_json)\n",
    "probs_xgb = xgb.predict_proba(X)[:,1] # score 0..1"
   ]
  },
  {
   "cell_type": "code",
   "execution_count": 50,
   "id": "4b1769c3",
   "metadata": {},
   "outputs": [
    {
     "data": {
      "text/plain": [
       "array([0.04132884, 0.01800053, 0.04556002, ..., 0.15464981, 0.11954553,\n",
       "       0.05628667], dtype=float32)"
      ]
     },
     "execution_count": 50,
     "metadata": {},
     "output_type": "execute_result"
    }
   ],
   "source": [
    "probs_xgb"
   ]
  },
  {
   "cell_type": "code",
   "execution_count": null,
   "id": "671d2ea2",
   "metadata": {},
   "outputs": [],
   "source": [
    "# SVM \n",
    "scaler = joblib.load(scaler_pkl)\n",
    "svm = joblib.load(svm_pkl)\n",
    "Xs = scaler.transform(X)\n",
    "probs_svm = svm.decision_function(Xs)\n",
    "probs_svm_n = (probs_svm - probs_svm.min())/(probs_svm.max()-probs_svm.min()+1e-8)"
   ]
  },
  {
   "cell_type": "code",
   "execution_count": null,
   "id": "d2990b55",
   "metadata": {},
   "outputs": [],
   "source": [
    "probs = probs_xgb.flatten()\n",
    "\n",
    "df_resultados = pd.DataFrame({\n",
    "    \"smiles\": df[\"smiles\"],\n",
    "    \"sequence\": df[\"sequence\"],\n",
    "    \"probabilidade\": probs\n",
    "})\n",
    "\n",
    "df_resultados.to_csv(\"resultadosxgboost_iso.csv\", index=False)\n"
   ]
  },
  {
   "cell_type": "code",
   "execution_count": null,
   "id": "a276f134",
   "metadata": {},
   "outputs": [],
   "source": [
    "probs_n = probs_svm_n.flatten()\n",
    "\n",
    "# Criar um DataFrame com IDs e probabilidades\n",
    "df_resultados = pd.DataFrame({\n",
    "    \"smiles\": df[\"smiles\"],\n",
    "    \"sequence\": df[\"sequence\"],\n",
    "    \"probabilidade\": probs_n\n",
    "})\n",
    "\n",
    "df_resultados.to_csv(\"resultadosvm_10.csv\", index=False)"
   ]
  },
  {
   "cell_type": "code",
   "execution_count": null,
   "id": "a853bd39",
   "metadata": {},
   "outputs": [],
   "source": [
    "df_filtrado = df_resultados[df_resultados[\"probabilidade\"] > 0.99]"
   ]
  },
  {
   "cell_type": "code",
   "execution_count": null,
   "id": "145ee0c7",
   "metadata": {},
   "outputs": [],
   "source": [
    "df_filtrado"
   ]
  },
  {
   "cell_type": "markdown",
   "id": "99071f87",
   "metadata": {},
   "source": [
    "## BCM RUN"
   ]
  },
  {
   "cell_type": "code",
   "execution_count": 7,
   "id": "a05f4904",
   "metadata": {},
   "outputs": [],
   "source": [
    "import pandas as pd\n",
    "df = pd.read_csv(\"/home/resperanca/Tuberculosis_Tese/Data/Model_results/drug_target_pairs_results_iso.csv\")"
   ]
  },
  {
   "cell_type": "code",
   "execution_count": 8,
   "id": "f875c975",
   "metadata": {},
   "outputs": [],
   "source": [
    "import sys\n",
    "sys.path.append(\"/home/resperanca/Tuberculosis_Tese/Source/Models/BCM-DTI_normal\")"
   ]
  },
  {
   "cell_type": "code",
   "execution_count": null,
   "id": "5153c621",
   "metadata": {},
   "outputs": [],
   "source": [
    "from SSCNN_dataset import NewDataset\n",
    "from SSCNN_model import SSCNN_DTI\n",
    "from torch.utils.data import DataLoader\n",
    "import torch, pickle\n",
    "\n",
    "device = torch.device(\"cuda\" if torch.cuda.is_available() else \"cpu\")\n",
    "\n",
    "\n",
    "with open(\"/home/resperanca/Tuberculosis_Tese/Source/Models/BCM-DTI_normal/model/Papyrus_TB/vocab/words2idx_d_Papyrus_TB.pkl\",\"rb\") as f: words2idx_d = pickle.load(f)\n",
    "with open(\"/home/resperanca/Tuberculosis_Tese/Source/Models/BCM-DTI_normal/model/Papyrus_TB/vocab/words2idx_p_Papyrus_TB.pkl\",\"rb\") as f: words2idx_p = pickle.load(f)\n",
    "max_drug_seq = 44\n",
    "max_prot_seq = 462\n",
    "\n",
    "from SSCNN_utils import get_one_bcm\n",
    "smiles_list = df[\"smiles\"].tolist()\n",
    "prot_list   = df[\"sequence\"].tolist()\n",
    "labels_dummy = [0]*len(df) \n",
    "sm_frag, pr_frag, _ = get_one_bcm(smiles_list, prot_list, labels_dummy, decompose2=\"category\", k=3)\n",
    "\n"
   ]
  },
  {
   "cell_type": "code",
   "execution_count": null,
   "id": "340dd7a6",
   "metadata": {},
   "outputs": [],
   "source": [
    "import json\n",
    "\n",
    "with open(\"/home/resperanca/Tuberculosis_Tese/Source/Models/BCM-DTI_normal/model/Papyrus_TB/config_Papyrus_TB.json\") as f:\n",
    "    args_config = json.load(f)"
   ]
  },
  {
   "cell_type": "code",
   "execution_count": null,
   "id": "2184231f",
   "metadata": {},
   "outputs": [],
   "source": [
    "\n",
    "dataset_inf = NewDataset(sm_frag, pr_frag, labels_dummy, words2idx_d, words2idx_p, max_drug_seq, max_prot_seq)\n",
    "loader_inf  = DataLoader(dataset_inf, batch_size=64, shuffle=False)\n",
    "\n",
    "\n",
    "model = SSCNN_DTI(args_config)  \n",
    "model.load_state_dict(torch.load(\"/home/resperanca/Tuberculosis_Tese/Source/Models/BCM-DTI_normal/model/Papyrus_TB/34.pkl\", map_location=device))\n",
    "model.to(device).eval()\n"
   ]
  },
  {
   "cell_type": "code",
   "execution_count": null,
   "id": "76e3f483",
   "metadata": {},
   "outputs": [],
   "source": [
    "\n",
    "scores = []\n",
    "with torch.no_grad():\n",
    "    for d, _, p, _ in loader_inf:\n",
    "        s = model(d.long().to(device), p.long().to(device))\n",
    "        scores.extend(s.squeeze().cpu().numpy().tolist())\n",
    "\n",
    "df_out = df.copy()\n",
    "df_out[\"score_bcmdti\"] = scores\n",
    "df_out.to_csv(\"ResultadosBCM_10.csv\", index=False)"
   ]
  },
  {
   "cell_type": "code",
   "execution_count": null,
   "id": "ad795f91",
   "metadata": {},
   "outputs": [],
   "source": [
    "df_out"
   ]
  },
  {
   "cell_type": "markdown",
   "id": "0c6d581e",
   "metadata": {},
   "source": [
    "# Results"
   ]
  },
  {
   "cell_type": "markdown",
   "id": "6e9a9ede",
   "metadata": {},
   "source": [
    "## 10 targets"
   ]
  },
  {
   "cell_type": "code",
   "execution_count": null,
   "id": "268ea89d",
   "metadata": {},
   "outputs": [],
   "source": [
    "\n",
    "#df_xg = pd.read_csv(\"/home/resperanca/Tuberculosis_Tese/Data/Model_results/resultadosxgboost_10.csv\")\n",
    "#df_svm = pd.read_csv(\"/home/resperanca/Tuberculosis_Tese/Data/Model_results/resultadosvm_10.csv\")\n",
    "#df_bcm = pd.read_csv(\"/home/resperanca/Tuberculosis_Tese/Data/Model_results/ResultadosBCM_10.csv\")"
   ]
  },
  {
   "cell_type": "code",
   "execution_count": 4,
   "id": "e0b69135",
   "metadata": {},
   "outputs": [],
   "source": [
    "df_xg = df_xg[df_xg[\"probabilidade\"] > 0.99]"
   ]
  },
  {
   "cell_type": "code",
   "execution_count": null,
   "id": "cc74571a",
   "metadata": {},
   "outputs": [],
   "source": [
    "#df_svm = df_svm[df_svm[\"probabilidade_norm\"] > 0.95]"
   ]
  },
  {
   "cell_type": "code",
   "execution_count": 15,
   "id": "93a7c993",
   "metadata": {},
   "outputs": [],
   "source": [
    "df_bcm = df_bcm[df_bcm[\"score_bcmdti\"] > 0.99]\n"
   ]
  },
  {
   "cell_type": "markdown",
   "id": "f9227f3e",
   "metadata": {},
   "source": [
    "### Merge"
   ]
  },
  {
   "cell_type": "code",
   "execution_count": null,
   "id": "8164f09d",
   "metadata": {},
   "outputs": [],
   "source": [
    "cols = [\"smiles\", \"sequence\"]\n",
    "\n",
    "duplicadas = df_xg.merge(df_bcm[cols], on=cols, how=\"inner\")\n",
    "\n",
    "print(duplicadas)\n",
    "\n"
   ]
  },
  {
   "cell_type": "code",
   "execution_count": 10,
   "id": "b5d48fa7",
   "metadata": {},
   "outputs": [],
   "source": [
    "duplicadas.to_csv(\"resultado_final_10_95.csv\", index=False)"
   ]
  },
  {
   "cell_type": "markdown",
   "id": "70e12721",
   "metadata": {},
   "source": [
    "## Iso"
   ]
  },
  {
   "cell_type": "code",
   "execution_count": 18,
   "id": "91d4d572",
   "metadata": {},
   "outputs": [],
   "source": [
    "df_xg = pd.read_csv(\"/home/resperanca/Tuberculosis_Tese/Data/Model_results/resultadosxgboost_iso.csv\")\n",
    "#df_svm = pd.read_csv(\"/home/resperanca/Tuberculosis_Tese/Data/Model_results/resultadosSVM.csv\")\n",
    "df_bcm = pd.read_csv(\"/home/resperanca/Tuberculosis_Tese/Data/Model_results/ResultadosBCM_iso.csv\")"
   ]
  },
  {
   "cell_type": "code",
   "execution_count": 22,
   "id": "10c4b18a",
   "metadata": {},
   "outputs": [],
   "source": [
    "df_xg = df_xg[df_xg[\"probabilidade\"] > 0.99]"
   ]
  },
  {
   "cell_type": "code",
   "execution_count": null,
   "id": "e0167a9d",
   "metadata": {},
   "outputs": [],
   "source": [
    "#df_svm = df_svm[df_svm[\"probabilidade_norm\"] > 0.95]"
   ]
  },
  {
   "cell_type": "code",
   "execution_count": 27,
   "id": "2cd55eff",
   "metadata": {},
   "outputs": [],
   "source": [
    "df_bcm = df_bcm[df_bcm[\"score_bcmdti\"] > 0.99]\n"
   ]
  },
  {
   "cell_type": "markdown",
   "id": "78ebbf2c",
   "metadata": {},
   "source": [
    "### merge"
   ]
  },
  {
   "cell_type": "code",
   "execution_count": null,
   "id": "d750a4db",
   "metadata": {},
   "outputs": [],
   "source": [
    "cols = [\"smiles\", \"sequence\"]\n",
    "\n",
    "duplicadas = df_xg.merge(df_bcm[cols], on=cols, how=\"inner\")\n",
    "\n",
    "print(duplicadas)\n"
   ]
  }
 ],
 "metadata": {
  "kernelspec": {
   "display_name": "rdkit_env",
   "language": "python",
   "name": "python3"
  },
  "language_info": {
   "codemirror_mode": {
    "name": "ipython",
    "version": 3
   },
   "file_extension": ".py",
   "mimetype": "text/x-python",
   "name": "python",
   "nbconvert_exporter": "python",
   "pygments_lexer": "ipython3",
   "version": "3.8.20"
  }
 },
 "nbformat": 4,
 "nbformat_minor": 5
}
