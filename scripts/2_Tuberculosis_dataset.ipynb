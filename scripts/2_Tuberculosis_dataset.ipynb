{
 "cells": [
  {
   "cell_type": "code",
   "execution_count": 1,
   "id": "3ab53841",
   "metadata": {},
   "outputs": [],
   "source": [
    "import xml.etree.ElementTree as ET\n",
    "import csv\n",
    "import pandas as pd\n",
    "import requests\n",
    "from tqdm import tqdm\n",
    "import numpy as np\n",
    "import re\n",
    "from chembl_webresource_client.new_client import new_client\n",
    "import yaml"
   ]
  },
  {
   "cell_type": "markdown",
   "id": "7ef5372c",
   "metadata": {},
   "source": [
    "# DrugBank"
   ]
  },
  {
   "cell_type": "markdown",
   "id": "68e7e64f",
   "metadata": {},
   "source": [
    "I applied to drugbank for access to all their data, after being accepted, and downloaded the file containing all the data and preprocessed it."
   ]
  },
  {
   "cell_type": "code",
   "execution_count": null,
   "id": "79758837",
   "metadata": {},
   "outputs": [],
   "source": [
    "# Load and manipulate the file\n",
    "\n",
    "tree = ET.parse('/home/resperanca/Tuberculosis_Tese/drugbank.xml')\n",
    "root = tree.getroot()\n",
    "ns = {'db': 'http://www.drugbank.ca'}\n",
    "tuberculosis_drugs = []"
   ]
  },
  {
   "cell_type": "code",
   "execution_count": null,
   "id": "098d42ba",
   "metadata": {},
   "outputs": [],
   "source": [
    "\n",
    "keywords = [\n",
    "    'tuberculosis', 'mycobacterium tuberculosis', 'mtb',\n",
    "    'pulmonary tuberculosis', 'extrapulmonary tuberculosis', 'latent tuberculosis',\n",
    "    'active tuberculosis', 'multidrug-resistant tuberculosis', 'extensively drug-resistant tuberculosis',\n",
    "    'tb-mdr', 'tb-xdr', 'tuberculose', 'coinfection', 'tb/hiv',\n",
    "]\n",
    "keywords = [k.lower() for k in keywords]\n",
    "\n",
    "tb_targets = []\n",
    "tb_drugs = []\n",
    "\n",
    "#DRUGS\n",
    "\n",
    "for drug in root.findall('db:drug', ns):\n",
    "    drugbank_id = drug.find('db:drugbank-id', ns).text\n",
    "    name = drug.find('db:name', ns).text if drug.find('db:name', ns) is not None else ''\n",
    "    found = False\n",
    "\n",
    "    # Indication\n",
    "    indication = drug.find('db:indication', ns)\n",
    "    if indication is not None and indication.text and any(k in indication.text.lower() for k in keywords):\n",
    "        found = True\n",
    "\n",
    "    # Categorie\n",
    "    for category in drug.findall('db:categories/db:category', ns):\n",
    "        if category.text and any(k in category.text.lower() for k in keywords):\n",
    "            found = True\n",
    "\n",
    "    # SMILES\n",
    "    smiles = ''\n",
    "    for prop in drug.findall('db:calculated-properties/db:property', ns):\n",
    "        kind = prop.find('db:kind', ns)\n",
    "        if kind is not None and kind.text == 'SMILES':\n",
    "            smiles = prop.find('db:value', ns).text\n",
    "            break\n",
    "\n",
    "    # Mechanism-of-action\n",
    "    moa = drug.find('db:mechanism-of-action', ns)\n",
    "    moa_text = moa.text.strip() if moa is not None and moa.text else ''\n",
    "\n",
    "    # IC50\n",
    "    ic50 = ''\n",
    "    for assay in drug.findall('db:experimental-properties/db:property', ns):\n",
    "        kind = assay.find('db:kind', ns)\n",
    "        if kind is not None and kind.text == 'IC50':\n",
    "            ic50 = assay.find('db:value', ns).text\n",
    "            break\n",
    "\n",
    "    # Targets\n",
    "    related_target_ids = []\n",
    "    for target_type in ['targets', 'enzymes', 'carriers', 'transporters']:\n",
    "        for target in drug.findall(f'db:{target_type}/db:{target_type[:-1]}', ns):\n",
    "            t_name = target.find('db:name', ns)\n",
    "            organism = target.find('db:organism', ns)\n",
    "            polypeptide = target.find('db:polypeptide', ns)\n",
    "\n",
    "            target_name = t_name.text if t_name is not None else ''\n",
    "            org = organism.text if organism is not None else ''\n",
    "            uniprot_id = polypeptide.attrib['id'] if polypeptide is not None and 'id' in polypeptide.attrib else ''\n",
    "            sequence = ''\n",
    "            if polypeptide is not None:\n",
    "                seq_elem = polypeptide.find('db:sequence', ns)\n",
    "                if seq_elem is not None and seq_elem.text:\n",
    "                    sequence = seq_elem.text.strip()\n",
    "\n",
    "            target_name_lower = target_name.lower() if target_name else ''\n",
    "            org_lower = org.lower() if org else ''\n",
    "\n",
    "            #Filter only TB-related targets\n",
    "            if any(k in target_name_lower for k in keywords) or any(k in org_lower for k in keywords):\n",
    "                action_list = target.find('db:actions', ns)\n",
    "                action_types = [a.text for a in action_list.findall('db:action', ns)] if action_list is not None else []\n",
    "                pharmacological_action = target.attrib.get('known-action', 'unknown')\n",
    "\n",
    "                target_entry = {\n",
    "                    'target_name': target_name,\n",
    "                    'organism': org,\n",
    "                    'uniprot_id': uniprot_id,\n",
    "                    'sequence': sequence,\n",
    "                    'target_type': target_type[:-1],\n",
    "                    'action_types': \";\".join(action_types),\n",
    "                    'pharmacological_action': pharmacological_action\n",
    "                }\n",
    "\n",
    "                \n",
    "                if uniprot_id and not any(t['uniprot_id'] == uniprot_id for t in tb_targets):\n",
    "                    tb_targets.append(target_entry)\n",
    "\n",
    "                if uniprot_id:\n",
    "                    related_target_ids.append(uniprot_id)\n",
    "\n",
    "    # If the drug is related to TB, store\n",
    "    if found:\n",
    "        tb_drugs.append({\n",
    "            'drugbank_id': drugbank_id,\n",
    "            'name': name,\n",
    "            'smiles': smiles,\n",
    "            'indication': indication.text.strip() if indication is not None and indication.text else '',\n",
    "            'mechanism_of_action': moa_text,\n",
    "            'ic50': ic50,\n",
    "            'targets': related_target_ids\n",
    "        })\n",
    "\n"
   ]
  },
  {
   "cell_type": "markdown",
   "id": "59a9beab",
   "metadata": {},
   "source": [
    "In the next step, the script runs two nested cycles. The first runs through all the TB-related drugs stored in the tb_drugs list. The second runs through all the tuberculosis-related molecular targets stored in the tb_targets list. It checks whether the target's uniprot_id is present in the drug's target list (drug[“targets”]). If it is, there is a known interaction between the drug and the target, and the interaction variable is set to 1. Otherwise, it is set to 0, indicating that there is no known interaction."
   ]
  },
  {
   "cell_type": "code",
   "execution_count": null,
   "id": "d09590f8",
   "metadata": {},
   "outputs": [],
   "source": [
    "# DRUG × TARGET Matrix\n",
    "with open('tb_drug_target_matrix.csv', 'w', newline='', encoding='utf-8') as f:\n",
    "    writer = csv.writer(f)\n",
    "    writer.writerow([\n",
    "        'DrugBank ID', 'Drug Name', 'SMILES', 'Indication', 'Mechanism of Action', 'IC50',\n",
    "        'Target Name', 'Organism', 'UniProt ID', 'Target Sequence', 'Target Type',\n",
    "        'Action Type(s)', 'Pharmacological Action', 'Dataset', 'Interaction'\n",
    "    ])\n",
    "\n",
    "    for drug in tb_drugs:\n",
    "        for target in tb_targets:\n",
    "            interaction = 1 if target['uniprot_id'] in drug['targets'] else 0\n",
    "            writer.writerow([\n",
    "                drug['drugbank_id'], drug['name'], drug['smiles'],\n",
    "                drug['indication'], drug['mechanism_of_action'], drug['ic50'],\n",
    "                target['target_name'], target['organism'], target['uniprot_id'],\n",
    "                target['sequence'], target['target_type'], target['action_types'],\n",
    "                target['pharmacological_action'], 'DrugBank', interaction\n",
    "            ])\n",
    "\n",
    "print(f\" {len(tb_drugs)} drogas relacionadas com TB exportadas.\")\n",
    "print(f\" {len(tb_targets)} alvos relacionados com TB exportados.\")"
   ]
  },
  {
   "cell_type": "markdown",
   "id": "a3424610",
   "metadata": {},
   "source": [
    "### Get Seq Uniprot\n"
   ]
  },
  {
   "cell_type": "code",
   "execution_count": null,
   "id": "79d62cb5",
   "metadata": {},
   "outputs": [],
   "source": [
    "df = pd.read_csv('tb_drugbank_2.csv')\n",
    "\n",
    "seq_cache = {}\n",
    "\n",
    "if 'Target Sequence' not in df.columns:\n",
    "    df['Target Sequence'] = \"\"\n",
    "\n",
    "\n",
    "for i, row in tqdm(df.iterrows(), total=len(df)):\n",
    "    uniprot_id = str(row['UniProt ID']).strip()\n",
    "\n",
    "    if pd.isna(uniprot_id) or uniprot_id == '':\n",
    "        continue\n",
    "\n",
    "    if uniprot_id in seq_cache:\n",
    "        df.at[i, 'Target Sequence'] = seq_cache[uniprot_id]\n",
    "        continue\n",
    "\n",
    "    url = f\"https://rest.uniprot.org/uniprotkb/{uniprot_id}.fasta\"\n",
    "    try:\n",
    "        response = requests.get(url, timeout=10)\n",
    "        if response.status_code == 200:\n",
    "            lines = response.text.splitlines()\n",
    "            if lines and lines[0].startswith('>'):\n",
    "                sequence = ''.join(lines[1:]).strip()\n",
    "                seq_cache[uniprot_id] = sequence\n",
    "                df.at[i, 'Target Sequence'] = sequence\n",
    "        else:\n",
    "            print(f\" {uniprot_id} não encontrado (status {response.status_code})\")\n",
    "    except requests.exceptions.RequestException as e:\n",
    "        print(f\" Erro ao buscar {uniprot_id}: {e}\")\n",
    "\n",
    "\n",
    "#df.to_csv(\"tb_drugbank_2.csv\", index=False)\n",
    "\n"
   ]
  },
  {
   "cell_type": "code",
   "execution_count": null,
   "id": "716eac7c",
   "metadata": {},
   "outputs": [],
   "source": [
    "num_unique_drugs = df['SMILES'].nunique()\n",
    "num_unique_targets = df['Target Sequence'].nunique()\n",
    "\n",
    "print(f\"Unique Drugs (SMILES): {num_unique_drugs}\")\n",
    "print(f\"Unique Targets: {num_unique_targets}\")"
   ]
  },
  {
   "cell_type": "markdown",
   "id": "89fb55a5",
   "metadata": {},
   "source": [
    "# BINDING"
   ]
  },
  {
   "cell_type": "markdown",
   "id": "779713b1",
   "metadata": {},
   "source": [
    "Regarding BindingDb, I downloaded the file with all the data and then preprocessed it."
   ]
  },
  {
   "cell_type": "code",
   "execution_count": null,
   "id": "c06b040b",
   "metadata": {},
   "outputs": [],
   "source": [
    "tsv_file_path = '/home/resperanca/Tuberculosis_Tese/BindingDB_All_202406.tsv'\n",
    "csv_file_path = '/home/resperanca/Tuberculosis_Tese/Binding.csv'\n",
    "\n",
    "try:\n",
    "     df = pd.read_csv(tsv_file_path, sep='\\t')\n",
    "    \n",
    "except pd.errors.ParserError as e:\n",
    "     error_line = int(str(e).split('line ')[1].split(',')[0])\n",
    "     with open(tsv_file_path, 'r') as file:\n",
    "         lines = file.readlines()\n",
    "         problematic_line = lines[error_line - 1]\n",
    "         print(f\"problematic line: {problematic_line}\")\n",
    "         \n",
    "     # Ignore the problematic line\n",
    "     df = pd.read_csv(tsv_file_path, sep='\\t', on_bad_lines='skip')\n",
    "\n",
    "df.to_csv(csv_file_path, index=False)\n",
    "Binding = pd.read_csv(csv_file_path)\n",
    "print(Binding.head())"
   ]
  },
  {
   "cell_type": "code",
   "execution_count": 28,
   "id": "65de3afc",
   "metadata": {},
   "outputs": [
    {
     "name": "stdout",
     "output_type": "stream",
     "text": [
      "['BindingDB Reactant_set_id', 'Ligand SMILES', 'Ligand InChI', 'Ligand InChI Key', 'BindingDB MonomerID', 'BindingDB Ligand Name', 'Target Name', 'Target Source Organism According to Curator or DataSource', 'Ki (nM)', 'IC50 (nM)', 'Kd (nM)', 'EC50 (nM)', 'kon (M-1-s-1)', 'koff (s-1)', 'pH', 'Temp (C)', 'Curation/DataSource', 'Article DOI', 'BindingDB Entry DOI', 'PMID', 'PubChem AID', 'Patent Number', 'Authors', 'Institution', 'Link to Ligand in BindingDB', 'Link to Target in BindingDB', 'Link to Ligand-Target Pair in BindingDB', 'Ligand HET ID in PDB', 'PDB ID(s) for Ligand-Target Complex', 'PubChem CID', 'PubChem SID', 'ChEBI ID of Ligand', 'ChEMBL ID of Ligand', 'DrugBank ID of Ligand', 'IUPHAR_GRAC ID of Ligand', 'KEGG ID of Ligand', 'ZINC ID of Ligand', 'Number of Protein Chains in Target (>1 implies a multichain complex)', 'BindingDB Target Chain Sequence', 'PDB ID(s) of Target Chain', 'UniProt (SwissProt) Recommended Name of Target Chain', 'UniProt (SwissProt) Entry Name of Target Chain', 'UniProt (SwissProt) Primary ID of Target Chain', 'UniProt (SwissProt) Secondary ID(s) of Target Chain', 'UniProt (SwissProt) Alternative ID(s) of Target Chain', 'UniProt (TrEMBL) Submitted Name of Target Chain', 'UniProt (TrEMBL) Entry Name of Target Chain', 'UniProt (TrEMBL) Primary ID of Target Chain', 'UniProt (TrEMBL) Secondary ID(s) of Target Chain', 'UniProt (TrEMBL) Alternative ID(s) of Target Chain', 'BindingDB Target Chain Sequence.1', 'PDB ID(s) of Target Chain.1', 'UniProt (SwissProt) Recommended Name of Target Chain.1', 'UniProt (SwissProt) Entry Name of Target Chain.1', 'UniProt (SwissProt) Primary ID of Target Chain.1', 'UniProt (SwissProt) Secondary ID(s) of Target Chain.1', 'UniProt (SwissProt) Alternative ID(s) of Target Chain.1', 'UniProt (TrEMBL) Submitted Name of Target Chain.1', 'UniProt (TrEMBL) Entry Name of Target Chain.1', 'UniProt (TrEMBL) Primary ID of Target Chain.1', 'UniProt (TrEMBL) Secondary ID(s) of Target Chain.1', 'UniProt (TrEMBL) Alternative ID(s) of Target Chain.1', 'BindingDB Target Chain Sequence.2', 'PDB ID(s) of Target Chain.2', 'UniProt (SwissProt) Recommended Name of Target Chain.2', 'UniProt (SwissProt) Entry Name of Target Chain.2', 'UniProt (SwissProt) Primary ID of Target Chain.2', 'UniProt (SwissProt) Secondary ID(s) of Target Chain.2', 'UniProt (SwissProt) Alternative ID(s) of Target Chain.2', 'UniProt (TrEMBL) Submitted Name of Target Chain.2', 'UniProt (TrEMBL) Entry Name of Target Chain.2', 'UniProt (TrEMBL) Primary ID of Target Chain.2', 'UniProt (TrEMBL) Secondary ID(s) of Target Chain.2', 'UniProt (TrEMBL) Alternative ID(s) of Target Chain.2', 'BindingDB Target Chain Sequence.3', 'PDB ID(s) of Target Chain.3', 'UniProt (SwissProt) Recommended Name of Target Chain.3', 'UniProt (SwissProt) Entry Name of Target Chain.3', 'UniProt (SwissProt) Primary ID of Target Chain.3', 'UniProt (SwissProt) Secondary ID(s) of Target Chain.3', 'UniProt (SwissProt) Alternative ID(s) of Target Chain.3', 'UniProt (TrEMBL) Submitted Name of Target Chain.3', 'UniProt (TrEMBL) Entry Name of Target Chain.3', 'UniProt (TrEMBL) Primary ID of Target Chain.3', 'UniProt (TrEMBL) Secondary ID(s) of Target Chain.3', 'UniProt (TrEMBL) Alternative ID(s) of Target Chain.3', 'BindingDB Target Chain Sequence.4', 'PDB ID(s) of Target Chain.4', 'UniProt (SwissProt) Recommended Name of Target Chain.4', 'UniProt (SwissProt) Entry Name of Target Chain.4', 'UniProt (SwissProt) Primary ID of Target Chain.4', 'UniProt (SwissProt) Secondary ID(s) of Target Chain.4', 'UniProt (SwissProt) Alternative ID(s) of Target Chain.4', 'UniProt (TrEMBL) Submitted Name of Target Chain.4', 'UniProt (TrEMBL) Entry Name of Target Chain.4', 'UniProt (TrEMBL) Primary ID of Target Chain.4', 'UniProt (TrEMBL) Secondary ID(s) of Target Chain.4', 'UniProt (TrEMBL) Alternative ID(s) of Target Chain.4', 'BindingDB Target Chain Sequence.5', 'PDB ID(s) of Target Chain.5', 'UniProt (SwissProt) Recommended Name of Target Chain.5', 'UniProt (SwissProt) Entry Name of Target Chain.5', 'UniProt (SwissProt) Primary ID of Target Chain.5', 'UniProt (SwissProt) Secondary ID(s) of Target Chain.5', 'UniProt (SwissProt) Alternative ID(s) of Target Chain.5', 'UniProt (TrEMBL) Submitted Name of Target Chain.5', 'UniProt (TrEMBL) Entry Name of Target Chain.5', 'UniProt (TrEMBL) Primary ID of Target Chain.5', 'UniProt (TrEMBL) Secondary ID(s) of Target Chain.5', 'UniProt (TrEMBL) Alternative ID(s) of Target Chain.5', 'BindingDB Target Chain Sequence.6', 'PDB ID(s) of Target Chain.6', 'UniProt (SwissProt) Recommended Name of Target Chain.6', 'UniProt (SwissProt) Entry Name of Target Chain.6', 'UniProt (SwissProt) Primary ID of Target Chain.6', 'UniProt (SwissProt) Secondary ID(s) of Target Chain.6', 'UniProt (SwissProt) Alternative ID(s) of Target Chain.6', 'UniProt (TrEMBL) Submitted Name of Target Chain.6', 'UniProt (TrEMBL) Entry Name of Target Chain.6', 'UniProt (TrEMBL) Primary ID of Target Chain.6', 'UniProt (TrEMBL) Secondary ID(s) of Target Chain.6', 'UniProt (TrEMBL) Alternative ID(s) of Target Chain.6', 'BindingDB Target Chain Sequence.7', 'PDB ID(s) of Target Chain.7', 'UniProt (SwissProt) Recommended Name of Target Chain.7', 'UniProt (SwissProt) Entry Name of Target Chain.7', 'UniProt (SwissProt) Primary ID of Target Chain.7', 'UniProt (SwissProt) Secondary ID(s) of Target Chain.7', 'UniProt (SwissProt) Alternative ID(s) of Target Chain.7', 'UniProt (TrEMBL) Submitted Name of Target Chain.7', 'UniProt (TrEMBL) Entry Name of Target Chain.7', 'UniProt (TrEMBL) Primary ID of Target Chain.7', 'UniProt (TrEMBL) Secondary ID(s) of Target Chain.7', 'UniProt (TrEMBL) Alternative ID(s) of Target Chain.7', 'BindingDB Target Chain Sequence.8', 'PDB ID(s) of Target Chain.8', 'UniProt (SwissProt) Recommended Name of Target Chain.8', 'UniProt (SwissProt) Entry Name of Target Chain.8', 'UniProt (SwissProt) Primary ID of Target Chain.8', 'UniProt (SwissProt) Secondary ID(s) of Target Chain.8', 'UniProt (SwissProt) Alternative ID(s) of Target Chain.8', 'UniProt (TrEMBL) Submitted Name of Target Chain.8', 'UniProt (TrEMBL) Entry Name of Target Chain.8', 'UniProt (TrEMBL) Primary ID of Target Chain.8', 'UniProt (TrEMBL) Secondary ID(s) of Target Chain.8', 'UniProt (TrEMBL) Alternative ID(s) of Target Chain.8', 'BindingDB Target Chain Sequence.9', 'PDB ID(s) of Target Chain.9', 'UniProt (SwissProt) Recommended Name of Target Chain.9', 'UniProt (SwissProt) Entry Name of Target Chain.9', 'UniProt (SwissProt) Primary ID of Target Chain.9', 'UniProt (SwissProt) Secondary ID(s) of Target Chain.9', 'UniProt (SwissProt) Alternative ID(s) of Target Chain.9', 'UniProt (TrEMBL) Submitted Name of Target Chain.9', 'UniProt (TrEMBL) Entry Name of Target Chain.9', 'UniProt (TrEMBL) Primary ID of Target Chain.9', 'UniProt (TrEMBL) Secondary ID(s) of Target Chain.9', 'UniProt (TrEMBL) Alternative ID(s) of Target Chain.9', 'BindingDB Target Chain Sequence.10', 'PDB ID(s) of Target Chain.10', 'UniProt (SwissProt) Recommended Name of Target Chain.10', 'UniProt (SwissProt) Entry Name of Target Chain.10', 'UniProt (SwissProt) Primary ID of Target Chain.10', 'UniProt (SwissProt) Secondary ID(s) of Target Chain.10', 'UniProt (SwissProt) Alternative ID(s) of Target Chain.10', 'UniProt (TrEMBL) Submitted Name of Target Chain.10', 'UniProt (TrEMBL) Entry Name of Target Chain.10', 'UniProt (TrEMBL) Primary ID of Target Chain.10', 'UniProt (TrEMBL) Secondary ID(s) of Target Chain.10', 'UniProt (TrEMBL) Alternative ID(s) of Target Chain.10', 'BindingDB Target Chain Sequence.11', 'PDB ID(s) of Target Chain.11', 'UniProt (SwissProt) Recommended Name of Target Chain.11', 'UniProt (SwissProt) Entry Name of Target Chain.11', 'UniProt (SwissProt) Primary ID of Target Chain.11', 'UniProt (SwissProt) Secondary ID(s) of Target Chain.11', 'UniProt (SwissProt) Alternative ID(s) of Target Chain.11', 'UniProt (TrEMBL) Submitted Name of Target Chain.11', 'UniProt (TrEMBL) Entry Name of Target Chain.11', 'UniProt (TrEMBL) Primary ID of Target Chain.11', 'UniProt (TrEMBL) Secondary ID(s) of Target Chain.11', 'UniProt (TrEMBL) Alternative ID(s) of Target Chain.11', 'BindingDB Target Chain Sequence.12', 'PDB ID(s) of Target Chain.12', 'UniProt (SwissProt) Recommended Name of Target Chain.12', 'UniProt (SwissProt) Entry Name of Target Chain.12', 'UniProt (SwissProt) Primary ID of Target Chain.12', 'UniProt (SwissProt) Secondary ID(s) of Target Chain.12', 'UniProt (SwissProt) Alternative ID(s) of Target Chain.12', 'UniProt (TrEMBL) Submitted Name of Target Chain.12', 'UniProt (TrEMBL) Entry Name of Target Chain.12', 'UniProt (TrEMBL) Primary ID of Target Chain.12', 'UniProt (TrEMBL) Secondary ID(s) of Target Chain.12', 'UniProt (TrEMBL) Alternative ID(s) of Target Chain.12']\n"
     ]
    }
   ],
   "source": [
    "print(df.columns.tolist())"
   ]
  },
  {
   "cell_type": "code",
   "execution_count": null,
   "id": "6f18d0b7",
   "metadata": {},
   "outputs": [],
   "source": [
    "input_path = '/home/resperanca/Tuberculosis_Tese/Binding.csv'\n",
    "output_path = '/home/resperanca/Tuberculosis_Tese/tb_bindingdb_2.csv'\n",
    "\n",
    "\n",
    "keywords = [\n",
    "    'tuberculosis', 'mycobacterium tuberculosis', 'mtb',\n",
    "    'pulmonary tuberculosis', 'latent tuberculosis', 'tb-mdr',\n",
    "    'tb-xdr', 'tuberculose', 'coinfection', 'tb/hiv'\n",
    "]\n",
    "keywords = [k.lower() for k in keywords]\n",
    "\n",
    "df = pd.read_csv(input_path)\n",
    "\n",
    "filtered = df[\n",
    "    df['Target Name'].fillna('').str.lower().str.contains('|'.join(keywords)) |\n",
    "    df['Target Source Organism According to Curator or DataSource'].fillna('').str.lower().str.contains('|'.join(keywords))\n",
    "].copy()\n",
    "\n",
    "\n",
    "# Make sure we always have the same name in the column to make it easier to merge in the future.\n",
    "filtered = filtered[[\n",
    "    'BindingDB Reactant_set_id',\n",
    "    'BindingDB Ligand Name',\n",
    "    'Ligand SMILES',\n",
    "    'Target Name',\n",
    "    'Target Source Organism According to Curator or DataSource',\n",
    "    'UniProt (SwissProt) Primary ID of Target Chain',\n",
    "    'IC50 (nM)'\n",
    "]].rename(columns={\n",
    "    'BindingDB Reactant_set_id': 'Ligand ID',\n",
    "    'BindingDB Ligand Name': 'Ligand Name',\n",
    "    'Ligand SMILES': 'SMILES',\n",
    "    'Target Name': 'Target Name',\n",
    "    'Target Source Organism According to Curator or DataSource': 'Organism',\n",
    "    'UniProt (SwissProt) Primary ID of Target Chain': 'UniProt ID',\n",
    "    'IC50 (nM)': 'IC50'\n",
    "})\n",
    "\n",
    "\n",
    "filtered['Target Sequence'] = ''\n",
    "filtered['Dataset'] = 'BindingDB'\n",
    "\n"
   ]
  },
  {
   "cell_type": "markdown",
   "id": "d4eb09ff",
   "metadata": {},
   "source": [
    "### Get Seq Uniprot"
   ]
  },
  {
   "cell_type": "code",
   "execution_count": null,
   "id": "9d3a14c5",
   "metadata": {},
   "outputs": [],
   "source": [
    "seq_cache = {}\n",
    "\n",
    "for i, row in tqdm(filtered.iterrows(), total=len(filtered)):\n",
    "    uid = str(row['UniProt ID']).strip()\n",
    "\n",
    "    if not uid or pd.isna(uid):\n",
    "        continue\n",
    "\n",
    "    if uid in seq_cache:\n",
    "        filtered.at[i, 'Target Sequence'] = seq_cache[uid]\n",
    "        continue\n",
    "\n",
    "    try:\n",
    "        url = f\"https://rest.uniprot.org/uniprotkb/{uid}.fasta\"\n",
    "        response = requests.get(url, timeout=10)\n",
    "        if response.status_code == 200:\n",
    "            lines = response.text.splitlines()\n",
    "            sequence = ''.join(lines[1:]) if lines and lines[0].startswith('>') else ''\n",
    "            seq_cache[uid] = sequence\n",
    "            filtered.at[i, 'Target Sequence'] = sequence\n",
    "        else:\n",
    "            seq_cache[uid] = ''\n",
    "    except requests.exceptions.RequestException as e:\n",
    "        print(f\"Erro ao buscar {uid}: {e}\")\n",
    "        seq_cache[uid] = ''\n",
    "\n",
    "filtered.to_csv(output_path, index=False)\n"
   ]
  },
  {
   "cell_type": "markdown",
   "id": "1e64c796",
   "metadata": {},
   "source": [
    "The next step is to transform the IC50 values into pChEMBL. This function is useful when you have IC50 values (an indicator of a drug's potency) in different formats and want to standardise them in pChEMBL, a logarithmic scale where higher values indicate greater potency."
   ]
  },
  {
   "cell_type": "code",
   "execution_count": null,
   "id": "7b626318",
   "metadata": {},
   "outputs": [],
   "source": [
    "df = pd.read_csv('/home/resperanca/Tuberculosis_Tese/tb_bindingdb_2.csv')\n",
    "\n",
    "def to_pchembl(value, unit=\"nM\"):\n",
    "    \"\"\"\n",
    "    Converte valores de IC50/Ki/Kd em diferentes unidades (nM, µM, mM, M) para pChEMBL.\n",
    "    Retorna np.nan se o valor não for válido ou for censurado.\n",
    "    \"\"\"\n",
    "    try:\n",
    "        value_str = str(value).strip()\n",
    "        unit = str(unit).lower().strip()\n",
    "\n",
    "        # ignorar valores censurados (>, <, ~)\n",
    "        if any(sym in value_str for sym in [\">\", \"<\", \"~\"]):\n",
    "            return np.nan\n",
    "\n",
    "        # extrair número\n",
    "        match = re.search(r'\\d+\\.?\\d*', value_str)\n",
    "        if not match:\n",
    "            return np.nan\n",
    "\n",
    "        val = float(match.group())\n",
    "        if val <= 0:\n",
    "            return np.nan\n",
    "\n",
    "        # converter para M\n",
    "        if unit in [\"m\", \"mol/l\", \"molar\"]:\n",
    "            molar = val\n",
    "        elif unit in [\"mm\", \"mmol/l\", \"millimolar\"]:\n",
    "            molar = val * 1e-3\n",
    "        elif unit in [\"µm\", \"um\", \"umol/l\", \"micromolar\"]:\n",
    "            molar = val * 1e-6\n",
    "        elif unit in [\"nm\", \"nmol/l\", \"nanomolar\"]:\n",
    "            molar = val * 1e-9\n",
    "        else:\n",
    "            return np.nan  # unidade desconhecida\n",
    "\n",
    "        return -np.log10(molar)\n",
    "    except Exception:\n",
    "        return np.nan\n",
    "\n",
    "df['pChEMBL'] = df['IC50'].apply(ic50_to_pchembl)\n",
    "\n",
    "output_path = '/home/resperanca/Tuberculosis_Tese/tb_bindingdb_2.csv'\n",
    "df.to_csv(output_path, index=False)\n"
   ]
  },
  {
   "cell_type": "markdown",
   "id": "96f72242",
   "metadata": {},
   "source": [
    "# Chembl\n",
    "\n"
   ]
  },
  {
   "cell_type": "markdown",
   "id": "cefccbcd",
   "metadata": {},
   "source": [
    "For ChEMBL, we use an official Python library provided by ChEMBL, which allows you to query the ChEMBL database directly from Python scripts.The ChEMBL database contains detailed information on chemical compounds, biological targets, bioactivities, assays and much more."
   ]
  },
  {
   "cell_type": "code",
   "execution_count": null,
   "id": "f5a0ee8e",
   "metadata": {},
   "outputs": [],
   "source": [
    "from chembl_webresource_client.new_client import new_client\n",
    "import pandas as pd\n",
    "import numpy as np\n",
    "import yaml, time, math\n",
    "import requests\n",
    "\n",
    "organism_name = \"Mycobacterium tuberculosis\"\n",
    "target_resource = new_client.target\n",
    "\n",
    "targets = target_resource.filter(organism__icontains=organism_name)\n",
    "filtered_targets = [t for t in targets if organism_name in (t.get(\"organism\") or \"\")]\n",
    "id_name = {t[\"target_chembl_id\"]: t.get(\"pref_name\", \"\") for t in filtered_targets}\n",
    "id_uniprot = {\n",
    "    t[\"target_chembl_id\"]: (\n",
    "        t[\"target_components\"][0].get(\"accession\", \"\")\n",
    "        if isinstance(t.get(\"target_components\"), list) and t[\"target_components\"] else \"\"\n",
    "    )\n",
    "    for t in filtered_targets\n",
    "}\n",
    "\n",
    "with open(\"id_name_chembl.yaml\", \"w\") as f:\n",
    "    yaml.dump(id_name, f)\n",
    "\n",
    "\n",
    "def to_molar(value, units):\n",
    "  \n",
    "    units = (units or \"\").strip().lower()\n",
    "    v = float(value)\n",
    "    if v <= 0 or not math.isfinite(v):\n",
    "        return None\n",
    "    if units in (\"m\", \"mol/l\"):\n",
    "        return v\n",
    "    if units in (\"mm\", \"mmol/l\", \"mmolar\"):\n",
    "        return v * 1e-3\n",
    "    if units in (\"um\", \"µm\", \"umol/l\", \"micromolar\"):\n",
    "        return v * 1e-6\n",
    "    if units in (\"nm\", \"nmol/l\", \"nanomolar\"):\n",
    "        return v * 1e-9\n",
    "    \n",
    "    return None\n",
    "\n",
    "def pchembl_from(value_molar):\n",
    "    return -np.log10(value_molar) if value_molar and value_molar > 0 else None\n",
    "\n",
    "\n",
    "activity = new_client.activity\n",
    "rows = []\n",
    "for t in filtered_targets:\n",
    "    chembl_id = t[\"target_chembl_id\"]\n",
    "    target_name = id_name.get(chembl_id, \"\")\n",
    "    uniprot_id = id_uniprot.get(chembl_id, \"\")\n",
    "    organism = t.get(\"organism\", \"\")\n",
    "\n",
    "   \n",
    "    acts = activity.filter(target_chembl_id=chembl_id).only(\n",
    "        [\"canonical_smiles\", \"standard_type\", \"standard_value\", \"standard_units\", \"relation\"]\n",
    "    )\n",
    "\n",
    "    for a in acts:\n",
    "        typ = a.get(\"standard_type\")\n",
    "        if typ not in {\"IC50\", \"Ki\", \"Kd\"}:\n",
    "            continue\n",
    "        smi = a.get(\"canonical_smiles\") or \"\"\n",
    "        val = a.get(\"standard_value\")\n",
    "        units = a.get(\"standard_units\")\n",
    "        if not smi or val is None:\n",
    "            continue\n",
    "\n",
    "        molar = to_molar(val, units)\n",
    "        pchem = pchembl_from(molar)\n",
    "        if pchem is None:\n",
    "            continue\n",
    "\n",
    "       \n",
    "        rel = (a.get(\"relation\") or \"\").strip()\n",
    "        if rel in (\">\", \"<\", \">=\", \"<=\"):\n",
    "            continue\n",
    "\n",
    "        rows.append({\n",
    "            \"SMILES\": smi,\n",
    "            \"Target Name\": target_name,\n",
    "            \"Organism\": organism,\n",
    "            \"UniProt ID\": uniprot_id,\n",
    "            \"Type\": typ,\n",
    "            \"Std Value\": float(val),\n",
    "            \"Std Units\": units,\n",
    "            \"Value (M)\": molar,\n",
    "            \"pChEMBL\": pchem,\n",
    "            \"Dataset\": \"ChEMBL\"\n",
    "        })\n",
    "\n",
    "df = pd.DataFrame(rows)\n",
    "\n",
    "df.sort_values([\"pChEMBL\"], ascending=False, inplace=True)\n",
    "df = df.drop_duplicates(subset=[\"SMILES\", \"UniProt ID\", \"Type\"], keep=\"first\").reset_index(drop=True)\n",
    "\n",
    "\n",
    "df[\"Label\"] = (df[\"pChEMBL\"] >= 6.5).astype(int)\n",
    "\n",
    "def fetch_uniprot_seq(uid):\n",
    "    if not uid: return \"\"\n",
    "    try:\n",
    "        r = requests.get(f\"https://rest.uniprot.org/uniprotkb/{uid}.fasta\", timeout=10)\n",
    "        if r.status_code == 200:\n",
    "            lines = r.text.splitlines()\n",
    "            return \"\".join(lines[1:]).strip() if lines and lines[0].startswith(\">\") else \"\"\n",
    "    except requests.RequestException:\n",
    "        pass\n",
    "    return \"\"\n",
    "\n",
    "if \"Target Sequence\" not in df.columns:\n",
    "    df[\"Target Sequence\"] = \"\"\n",
    "\n",
    "missing = df[\"UniProt ID\"].fillna(\"\").eq(\"\")\n",
    "\n",
    "for idx, uid in df.loc[~missing, \"UniProt ID\"].drop_duplicates().items():\n",
    "    seq = fetch_uniprot_seq(uid)\n",
    "    if seq:\n",
    "        df.loc[df[\"UniProt ID\"] == uid, \"Target Sequence\"] = seq\n",
    "\n",
    "\n",
    "df.to_csv(\"tb_chembl_curated.csv\", index=False)\n",
    "print(f\"{len(df)} bioactivity rows (unique SMILES–target–type) guardados.\")\n"
   ]
  },
  {
   "cell_type": "markdown",
   "id": "3b6e1bc9",
   "metadata": {},
   "source": [
    "### Get Seq Uniprot"
   ]
  },
  {
   "cell_type": "code",
   "execution_count": null,
   "id": "90b2a1ba",
   "metadata": {},
   "outputs": [],
   "source": [
    "seq_cache = {}\n",
    "for i, row in tqdm(df.iterrows(), total=len(df)):\n",
    "    uid = row['UniProt ID']\n",
    "    if not uid or pd.isna(uid):\n",
    "        continue\n",
    "    if uid in seq_cache:\n",
    "        df.at[i, 'Target Sequence'] = seq_cache[uid]\n",
    "        continue\n",
    "    try:\n",
    "        r = requests.get(f\"https://rest.uniprot.org/uniprotkb/{uid}.fasta\", timeout=10)\n",
    "        if r.status_code == 200:\n",
    "            lines = r.text.splitlines()\n",
    "            if lines and lines[0].startswith('>'):\n",
    "                seq = ''.join(lines[1:]).strip()\n",
    "                df.at[i, 'Target Sequence'] = seq\n",
    "                seq_cache[uid] = seq\n",
    "    except Exception as e:\n",
    "        print(f\"Erro ao buscar sequência para {uid}: {e}\")\n",
    "\n",
    "\n",
    "df.to_csv('tb_chembl_2.csv', index=False)\n"
   ]
  },
  {
   "cell_type": "code",
   "execution_count": 41,
   "id": "7a16baf0",
   "metadata": {},
   "outputs": [],
   "source": [
    "df = pd.read_csv('tb_chembl_2.csv')"
   ]
  },
  {
   "cell_type": "markdown",
   "id": "bd2d5646",
   "metadata": {},
   "source": [
    "The next step is to transform the IC50 values into pChEMBL. This function is useful when you have IC50 values (an indicator of a drug's potency) in different formats and want to standardise them in pChEMBL, a logarithmic scale where higher values indicate greater potency."
   ]
  },
  {
   "cell_type": "code",
   "execution_count": null,
   "id": "1b64f833",
   "metadata": {},
   "outputs": [],
   "source": [
    "\n",
    "df['pChEMBL'] = df['IC50'].apply(ic50_to_pchembl)\n",
    "\n",
    "df.to_csv('tb_chembl_2.csv', index=False)\n"
   ]
  },
  {
   "cell_type": "markdown",
   "id": "dfecffb2",
   "metadata": {},
   "source": [
    "## Concatenate chembl with binding"
   ]
  },
  {
   "cell_type": "code",
   "execution_count": 3,
   "id": "4946cce6",
   "metadata": {},
   "outputs": [],
   "source": [
    "df_che = pd.read_csv('tb_chembl_2.csv')\n",
    "df_bin = pd.read_csv('tb_bindingdb_2.csv')"
   ]
  },
  {
   "cell_type": "code",
   "execution_count": null,
   "id": "bb176e39",
   "metadata": {},
   "outputs": [],
   "source": [
    "\n",
    "num_unique_drugs = df_bin['SMILES'].nunique()\n",
    "num_unique_targets = df_bin['Target Sequence'].nunique()\n",
    "print(f\"Unique Drugs (SMILES): {num_unique_drugs}\")\n",
    "print(f\"Unique Targets: {num_unique_targets}\")"
   ]
  },
  {
   "cell_type": "code",
   "execution_count": null,
   "id": "ce8e02ed",
   "metadata": {},
   "outputs": [],
   "source": [
    "df_bin_cleaned = df_bin.drop(columns=['Ligand ID', 'Ligand Name'])\n",
    "tb_bind_chem = pd.concat([df_che, df_bin_cleaned], ignore_index=True)\n",
    "tb_bind_chem.to_csv(\"tb_bind_chem.csv\", index=False)\n",
    "print(tb_bind_chem.head())\n"
   ]
  },
  {
   "cell_type": "code",
   "execution_count": null,
   "id": "aea91983",
   "metadata": {},
   "outputs": [],
   "source": [
    "\n",
    "num_unique_drugs = tb_bind_chem['SMILES'].nunique()\n",
    "num_unique_targets = tb_bind_chem['Target Sequence'].nunique()\n",
    "\n",
    "print(f\"Unique Drugs (SMILES): {num_unique_drugs}\")\n",
    "print(f\"Unique Targets: {num_unique_targets}\")"
   ]
  },
  {
   "cell_type": "markdown",
   "id": "ef0991fa",
   "metadata": {},
   "source": [
    "### remove duplicates with matching smiles targets sequences and pchembl"
   ]
  },
  {
   "cell_type": "code",
   "execution_count": null,
   "id": "436ef20f",
   "metadata": {},
   "outputs": [],
   "source": [
    "tb_bind_chem_unique = tb_bind_chem.drop_duplicates(subset=['SMILES', 'Target Sequence', 'pChEMBL'])"
   ]
  },
  {
   "cell_type": "markdown",
   "id": "f987e16f",
   "metadata": {},
   "source": [
    "For repeated cases, where we had the same SMILE and the same Target, but different Labels, we kept the pChEMBL median per group."
   ]
  },
  {
   "cell_type": "code",
   "execution_count": null,
   "id": "60b0bfc7",
   "metadata": {},
   "outputs": [],
   "source": [
    "pchembl_medians = tb_bind_chem_unique.groupby(['SMILES', 'Target Sequence'])['pChEMBL'].transform('median')\n",
    "\n",
    "tb_bind_chem_unique['pChEMBL'] = pchembl_medians\n",
    "\n",
    "tb_bind_chem_clean = tb_bind_chem_unique.drop_duplicates(subset=['SMILES', 'Target Sequence', 'pChEMBL'])\n",
    "tb_bind_chem_clean.to_csv(\"tb_bind_chem_clean.csv\", index=False)"
   ]
  },
  {
   "cell_type": "code",
   "execution_count": 26,
   "id": "fa1d6fb3",
   "metadata": {},
   "outputs": [],
   "source": [
    "df = pd.read_csv('tb_bind_chem_clean.csv')"
   ]
  },
  {
   "cell_type": "code",
   "execution_count": null,
   "id": "e0b5ad8d",
   "metadata": {},
   "outputs": [],
   "source": [
    "# Binary column\n",
    "tb_bind_chem_clean['interaction'] = (df['pChEMBL'] >= 6).astype(int)\n",
    "\n"
   ]
  },
  {
   "cell_type": "code",
   "execution_count": null,
   "id": "076c0606",
   "metadata": {},
   "outputs": [],
   "source": [
    "# Interctions\n",
    "interaction_counts = tb_bind_chem_clean['interaction'].value_counts()\n",
    "print(f\"Negativs (0): {interaction_counts.get(0, 0)}\")\n",
    "print(f\"Positivs (1): {interaction_counts.get(1, 0)}\")\n"
   ]
  },
  {
   "cell_type": "code",
   "execution_count": 29,
   "id": "cb0db059",
   "metadata": {},
   "outputs": [],
   "source": [
    "tb_bind_chem_clean.to_csv(\"tb_bind_chem_final.csv\", index=False)"
   ]
  },
  {
   "cell_type": "markdown",
   "id": "608bc7ff",
   "metadata": {},
   "source": [
    "## Concatenate  DrugBnak with binding + ChEMBL"
   ]
  },
  {
   "cell_type": "code",
   "execution_count": 3,
   "id": "cc99b265",
   "metadata": {},
   "outputs": [],
   "source": [
    "df_drug = pd.read_csv('tb_drugbank_2.csv')\n",
    "df_2 = pd.read_csv('tb_bind_chem_final.csv')"
   ]
  },
  {
   "cell_type": "code",
   "execution_count": 35,
   "id": "5138d577",
   "metadata": {},
   "outputs": [],
   "source": [
    "df_drug = df_drug.rename(columns={'Interaction': 'interaction'})"
   ]
  },
  {
   "cell_type": "code",
   "execution_count": null,
   "id": "0035b8dd",
   "metadata": {},
   "outputs": [],
   "source": [
    "# Remove\n",
    "df_drug_cleaned = df_drug.drop(columns=[\n",
    "    'Drug Name',\n",
    "    'DrugBank ID',\n",
    "    'Indication',\n",
    "    'Mechanism of Action'\n",
    "])\n",
    "\n",
    "\n",
    "df_combined = pd.concat([df_2, df_drug_cleaned], ignore_index=True)"
   ]
  },
  {
   "cell_type": "markdown",
   "id": "3d648b32",
   "metadata": {},
   "source": [
    "### remove duplicates with matching smiles targets sequences and interction"
   ]
  },
  {
   "cell_type": "code",
   "execution_count": null,
   "id": "4c8a8280",
   "metadata": {},
   "outputs": [],
   "source": [
    "\n",
    "tb_final = df_combined.drop_duplicates(subset=['SMILES', 'Target Sequence', 'interaction'])\n",
    "tb_final.to_csv(\"tb_final.csv\", index=False)\n"
   ]
  },
  {
   "cell_type": "code",
   "execution_count": 5,
   "id": "d9b1cc34",
   "metadata": {},
   "outputs": [],
   "source": [
    "tb_final = pd.read_csv('tb_final_filtrado.csv')"
   ]
  },
  {
   "cell_type": "code",
   "execution_count": null,
   "id": "5a7621b5",
   "metadata": {},
   "outputs": [],
   "source": [
    "\n",
    "num_unique_drugs = tb_final['SMILES'].nunique()\n",
    "num_unique_targets = tb_final['Target Sequence'].nunique()\n",
    "\n",
    "print(f\"Unique Drugs (SMILES): {num_unique_drugs}\")\n",
    "print(f\"Unique Targets: {num_unique_targets}\")"
   ]
  },
  {
   "cell_type": "code",
   "execution_count": null,
   "id": "57d1a054",
   "metadata": {},
   "outputs": [],
   "source": [
    "# Interections\n",
    "interaction_counts = tb_final['interaction'].value_counts()\n",
    "\n",
    "print(f\"Negativs (0): {interaction_counts.get(0, 0)}\")\n",
    "print(f\"Positivs (1): {interaction_counts.get(1, 0)}\")"
   ]
  },
  {
   "cell_type": "code",
   "execution_count": 4,
   "id": "c8810007",
   "metadata": {},
   "outputs": [],
   "source": [
    "target_names_unicos = tb_final['Target Name'].unique()"
   ]
  },
  {
   "cell_type": "markdown",
   "id": "a906c09e",
   "metadata": {},
   "source": [
    "### After manual cross-referencing, unrelated targets were removed"
   ]
  },
  {
   "cell_type": "code",
   "execution_count": null,
   "id": "a6c1efff",
   "metadata": {},
   "outputs": [],
   "source": [
    "targets_remover = [\n",
    "    'Mycobacterium tuberculosis variant bovis',\n",
    "    'Mycobacterium tuberculosis',\n",
    "    'Thymidylate synthase',\n",
    "    'BirA bifunctional protein',\n",
    "    'Hypoxanthine-guanine phosphoribosyltransferase',\n",
    "    'tRNA (guanine-N(1)-)-methyltransferase',\n",
    "    '1 4-dihydroxy-2-naphthoate octaprenyltransferase',\n",
    "    'Cytochrome P450 144',\n",
    "    'Cytochrome P450 130',\n",
    "    'DNA-directed RNA polymerase subunit beta',\n",
    "    'Possible cellulase CelA1 (Endoglucanase) (Endo-1 4-beta-glucanase) (FI-cmcase) (Carboxymethyl cellulase)',\n",
    "    'Cyclase',\n",
    "    'Conserved protein',\n",
    "    'ATP-dependent dethiobiotin synthetase BioD',\n",
    "    'Invasin',\n",
    "    'Hydroxymycolate synthase MmaA4',\n",
    "    'Possible exported protein'\n",
    "]\n",
    "\n",
    "df_filtrado = tb_final[~tb_final['Target Name'].str.strip().isin(targets_remover)]\n",
    "\n",
    "df_filtrado.to_csv('/home/resperanca/Tuberculosis_Tese/tb_final_filtrado.csv', index=False)\n"
   ]
  },
  {
   "cell_type": "code",
   "execution_count": 18,
   "id": "ebc3c3f0",
   "metadata": {},
   "outputs": [],
   "source": [
    "df= pd.read_csv('tb_final_filtrado.csv')"
   ]
  },
  {
   "cell_type": "markdown",
   "id": "f8b54f7b",
   "metadata": {},
   "source": [
    "It was necessary to adapt the tuberculosis dataset to be used by the Barlow twins model"
   ]
  },
  {
   "cell_type": "code",
   "execution_count": null,
   "id": "1ae1d445",
   "metadata": {},
   "outputs": [],
   "source": [
    "import pandas as pd\n",
    "from sklearn.model_selection import train_test_split\n",
    "\n",
    "df = df.rename(columns={\n",
    "    \"SMILES\": \"smiles\",\n",
    "    \"Target Sequence\": \"sequence\",\n",
    "    \"interaction\": \"label\"\n",
    "})\n",
    "\n",
    "df = df[[\"smiles\", \"sequence\", \"label\"]]\n",
    "\n",
    "df = df.dropna(subset=[\"label\"])\n",
    "\n",
    "train_df, temp_df = train_test_split(\n",
    "    df, test_size=0.3, random_state=42, stratify=df[\"label\"]\n",
    ")\n",
    "train_df[\"split\"] = \"train\"\n",
    "\n",
    "val_df, test_df = train_test_split(\n",
    "    temp_df, test_size=0.5, random_state=42, stratify=temp_df[\"label\"]\n",
    ")\n",
    "val_df[\"split\"] = \"val\"\n",
    "test_df[\"split\"] = \"test\"\n",
    "final_df = pd.concat([train_df, val_df, test_df])\n",
    "final_df = final_df[[\"smiles\", \"sequence\", \"label\", \"split\"]]\n",
    "final_df.to_csv(\"tb_fina_BARLOW.csv\", index=False)\n"
   ]
  },
  {
   "cell_type": "code",
   "execution_count": 33,
   "id": "d27206e4",
   "metadata": {},
   "outputs": [],
   "source": [
    "df = pd.read_csv('tb_fina_BARLOW.csv')"
   ]
  },
  {
   "cell_type": "code",
   "execution_count": null,
   "id": "0f438401",
   "metadata": {},
   "outputs": [],
   "source": [
    "df = df[df[\"smiles\"].notna()]  \n",
    "df = df[df[\"smiles\"].apply(lambda x: isinstance(x, str))] \n",
    "df = df[df[\"sequence\"].apply(lambda x: isinstance(x, str))]"
   ]
  },
  {
   "cell_type": "code",
   "execution_count": 35,
   "id": "75c4ac20",
   "metadata": {},
   "outputs": [],
   "source": [
    "df.to_csv(\"tb_fina_BARLOW.csv\", index=False)"
   ]
  }
 ],
 "metadata": {
  "kernelspec": {
   "display_name": "tese",
   "language": "python",
   "name": "python3"
  },
  "language_info": {
   "codemirror_mode": {
    "name": "ipython",
    "version": 3
   },
   "file_extension": ".py",
   "mimetype": "text/x-python",
   "name": "python",
   "nbconvert_exporter": "python",
   "pygments_lexer": "ipython3",
   "version": "3.12.9"
  }
 },
 "nbformat": 4,
 "nbformat_minor": 5
}
